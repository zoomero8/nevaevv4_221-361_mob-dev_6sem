{
 "cells": [
  {
   "cell_type": "markdown",
   "id": "dad241f3",
   "metadata": {},
   "source": [
    "# Работа с текстовыми файлами"
   ]
  },
  {
   "cell_type": "code",
   "execution_count": 1,
   "id": "5bcb1bf8",
   "metadata": {
    "polyglot_notebook": {
     "kernelName": "csharp"
    },
    "vscode": {
     "languageId": "polyglot-notebook"
    }
   },
   "outputs": [],
   "source": [
    "using System.IO;"
   ]
  },
  {
   "cell_type": "code",
   "execution_count": 2,
   "id": "ca208cf6",
   "metadata": {
    "polyglot_notebook": {
     "kernelName": "csharp"
    },
    "vscode": {
     "languageId": "polyglot-notebook"
    }
   },
   "outputs": [],
   "source": [
    "const string TEMP_DIR = \"temp\";\n",
    "\n",
    "if (! Directory.Exists(TEMP_DIR))\n",
    "    Directory.CreateDirectory(TEMP_DIR);"
   ]
  },
  {
   "cell_type": "code",
   "execution_count": 5,
   "id": "8751fef0",
   "metadata": {
    "polyglot_notebook": {
     "kernelName": "csharp"
    },
    "vscode": {
     "languageId": "polyglot-notebook"
    }
   },
   "outputs": [
    {
     "data": {
      "text/plain": [
       "temp\\aaa\\bbb\\cc\\temp_TXT.txt"
      ]
     },
     "metadata": {},
     "output_type": "display_data"
    }
   ],
   "source": [
    "// TEMP_DIR + \"\\\\\" + \"temp_TXT.txt\"\n",
    "Path.Combine(TEMP_DIR, \"aaa\", \"bbb\\\\cc\", \"temp_TXT.txt\")"
   ]
  },
  {
   "cell_type": "code",
   "execution_count": 7,
   "id": "1548c7af",
   "metadata": {
    "polyglot_notebook": {
     "kernelName": "csharp"
    },
    "vscode": {
     "languageId": "polyglot-notebook"
    }
   },
   "outputs": [],
   "source": [
    "var filename = Path.Combine(TEMP_DIR, \"temp_TXT.txt\");\n",
    "\n",
    "var f = new StreamWriter(filename);\n",
    "try\n",
    "{\n",
    "    f.WriteLine(\"Hello\");\n",
    "    f.WriteLine(\"123321\");\n",
    "}\n",
    "finally\n",
    "{\n",
    "f.Close();\n",
    "}"
   ]
  },
  {
   "cell_type": "code",
   "execution_count": 10,
   "id": "8e99b5aa",
   "metadata": {
    "polyglot_notebook": {
     "kernelName": "csharp"
    },
    "vscode": {
     "languageId": "polyglot-notebook"
    }
   },
   "outputs": [],
   "source": [
    "// другой вариант\n",
    "\n",
    "var filename = Path.Combine(TEMP_DIR, \"temp_TXT.txt\");\n",
    "\n",
    "{   using var f = new StreamWriter(filename);\n",
    "    f.WriteLine(\"Hello\");\n",
    "    f.WriteLine(\"123321\");\n",
    "}"
   ]
  },
  {
   "cell_type": "code",
   "execution_count": 11,
   "id": "85372d61",
   "metadata": {
    "polyglot_notebook": {
     "kernelName": "csharp"
    },
    "vscode": {
     "languageId": "polyglot-notebook"
    }
   },
   "outputs": [],
   "source": [
    "// добавить в конец файла\n",
    "\n",
    "\n",
    "var filename = Path.Combine(TEMP_DIR, \"temp_TXT.txt\");\n",
    "\n",
    "using (var f = new StreamWriter(filename, append:true))\n",
    "{   \n",
    "    f.WriteLine(\"00000000\");\n",
    "}"
   ]
  },
  {
   "cell_type": "code",
   "execution_count": null,
   "id": "08440459",
   "metadata": {
    "polyglot_notebook": {
     "kernelName": "csharp"
    },
    "vscode": {
     "languageId": "polyglot-notebook"
    }
   },
   "outputs": [
    {
     "name": "stdout",
     "output_type": "stream",
     "text": [
      "Hello\r\n",
      "123321\r\n",
      "00000000\r\n",
      "\r\n"
     ]
    }
   ],
   "source": [
    "// ЧТение из файла (цликом)\n",
    "\n",
    "var filename = Path.Combine(TEMP_DIR, \"temp_TXT.txt\");\n",
    "using(var f = new StreamReader(filename))\n",
    "{\n",
    "    var txt = f.ReadToEnd();\n",
    "    Console.WriteLine(txt);\n",
    "}"
   ]
  },
  {
   "cell_type": "code",
   "execution_count": 13,
   "id": "06a8b603",
   "metadata": {
    "polyglot_notebook": {
     "kernelName": "csharp"
    },
    "vscode": {
     "languageId": "polyglot-notebook"
    }
   },
   "outputs": [
    {
     "name": "stdout",
     "output_type": "stream",
     "text": [
      "Hello\n",
      "123321\n",
      "00000000\n"
     ]
    }
   ],
   "source": [
    "// ЧТение из файла (построчно)\n",
    "\n",
    "var filename = Path.Combine(TEMP_DIR, \"temp_TXT.txt\");\n",
    "\n",
    "using(var f = new StreamReader(filename))\n",
    "{\n",
    "    string line;\n",
    "    while(f.EndOfStream == false)\n",
    "    {\n",
    "        line = f.ReadLine();\n",
    "        Console.WriteLine(line);\n",
    "    }\n",
    "}"
   ]
  },
  {
   "cell_type": "code",
   "execution_count": null,
   "id": "a6910788",
   "metadata": {
    "polyglot_notebook": {
     "kernelName": "csharp"
    },
    "vscode": {
     "languageId": "polyglot-notebook"
    }
   },
   "outputs": [
    {
     "name": "stdout",
     "output_type": "stream",
     "text": [
      "Hello\n",
      "123321\n",
      "00000000\n"
     ]
    }
   ],
   "source": [
    "// другой вариант\n",
    "\n",
    "var filename = Path.Combine(TEMP_DIR, \"temp_TXT.txt\");\n",
    "\n",
    "using(var f = new StreamReader(filename))\n",
    "{\n",
    "    string line;\n",
    "    while((line = f.ReadLine()) != null)\n",
    "    {\n",
    "        Console.WriteLine(line);\n",
    "    }\n",
    "}"
   ]
  },
  {
   "cell_type": "code",
   "execution_count": 23,
   "id": "e9c20376",
   "metadata": {
    "polyglot_notebook": {
     "kernelName": "csharp"
    },
    "vscode": {
     "languageId": "polyglot-notebook"
    }
   },
   "outputs": [
    {
     "name": "stdout",
     "output_type": "stream",
     "text": [
      "111\n",
      "22222\n",
      "33333\n",
      "11.04.2025 13:09:19\r\n"
     ]
    },
    {
     "data": {
      "text/html": [
       "<div class=\"dni-plaintext\"><pre>[ 111, 22222, 33333, 11.04.2025 13:09:19 ]</pre></div><style>\r\n",
       ".dni-code-hint {\r\n",
       "    font-style: italic;\r\n",
       "    overflow: hidden;\r\n",
       "    white-space: nowrap;\r\n",
       "}\r\n",
       ".dni-treeview {\r\n",
       "    white-space: nowrap;\r\n",
       "}\r\n",
       ".dni-treeview td {\r\n",
       "    vertical-align: top;\r\n",
       "    text-align: start;\r\n",
       "}\r\n",
       "details.dni-treeview {\r\n",
       "    padding-left: 1em;\r\n",
       "}\r\n",
       "table td {\r\n",
       "    text-align: start;\r\n",
       "}\r\n",
       "table tr { \r\n",
       "    vertical-align: top; \r\n",
       "    margin: 0em 0px;\r\n",
       "}\r\n",
       "table tr td pre \r\n",
       "{ \r\n",
       "    vertical-align: top !important; \r\n",
       "    margin: 0em 0px !important;\r\n",
       "} \r\n",
       "table th {\r\n",
       "    text-align: start;\r\n",
       "}\r\n",
       "</style>"
      ]
     },
     "metadata": {},
     "output_type": "display_data"
    }
   ],
   "source": [
    "var filename = Path.Combine(TEMP_DIR, \"temp_TXT2.txt\");\n",
    "\n",
    "//Перезапись файла\n",
    "File.WriteAllText(filename, \"111\\n22222\\n33333\");\n",
    "\n",
    "//Дозапись в файл\n",
    "File.AppendAllText(filename, \"\\n\" + DateTime.Now.ToString());\n",
    "\n",
    "// Чтение из файла в строку\n",
    "var txt = File.ReadAllText(filename);\n",
    "Console.WriteLine(txt);\n",
    "\n",
    "// ЧТение из файла в массив\n",
    "var lines = File.ReadAllLines(filename);\n",
    "lines"
   ]
  },
  {
   "cell_type": "code",
   "execution_count": null,
   "id": "3be9baa1",
   "metadata": {
    "polyglot_notebook": {
     "kernelName": "csharp"
    },
    "vscode": {
     "languageId": "polyglot-notebook"
    }
   },
   "outputs": [],
   "source": [
    "var filename = Path.Combine(TEMP_DIR, \"temp_ASCII.txt\");\n",
    "File.WriteAllText(filename, \"Привет! Как дела?\");"
   ]
  },
  {
   "cell_type": "code",
   "execution_count": 25,
   "id": "17e08218",
   "metadata": {
    "polyglot_notebook": {
     "kernelName": "csharp"
    },
    "vscode": {
     "languageId": "polyglot-notebook"
    }
   },
   "outputs": [],
   "source": [
    "var filename = Path.Combine(TEMP_DIR, \"temp_ASCII.txt\");\n",
    "File.WriteAllText(filename, \"Привет! Как дела?\", Encoding.ASCII);"
   ]
  }
 ],
 "metadata": {
  "kernelspec": {
   "display_name": ".NET (C#)",
   "language": "C#",
   "name": ".net-csharp"
  },
  "language_info": {
   "name": "python"
  },
  "polyglot_notebook": {
   "kernelInfo": {
    "defaultKernelName": "csharp",
    "items": [
     {
      "aliases": [],
      "name": "csharp"
     }
    ]
   }
  }
 },
 "nbformat": 4,
 "nbformat_minor": 5
}
