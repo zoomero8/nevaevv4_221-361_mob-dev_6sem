{
 "cells": [
  {
   "cell_type": "markdown",
   "id": "f422be03",
   "metadata": {},
   "source": [
    "# LINQ\n"
   ]
  },
  {
   "cell_type": "code",
   "execution_count": 7,
   "id": "2db5b2de",
   "metadata": {
    "polyglot_notebook": {
     "kernelName": "csharp"
    },
    "vscode": {
     "languageId": "polyglot-notebook"
    }
   },
   "outputs": [
    {
     "name": "stdout",
     "output_type": "stream",
     "text": [
      "0 1 2 3 4 5 6 7 8 9\n",
      "6 7\n"
     ]
    }
   ],
   "source": [
    "var numbers_0 = new int [] {0, 1, 2, 3, 4, 5, 6, 7, 8, 9};\n",
    "var numbers = Enumerable.Range(0, 10).ToArray();\n",
    "Console.WriteLine(string.Join(\" \", numbers));\n",
    "\n",
    "var q_numbers = \n",
    "    from n in numbers\n",
    "    where n > 5 && n < 8\n",
    "    select n;\n",
    "\n",
    "Console.WriteLine(string.Join(\" \", q_numbers));"
   ]
  },
  {
   "cell_type": "code",
   "execution_count": null,
   "id": "19707051",
   "metadata": {
    "polyglot_notebook": {
     "kernelName": "csharp"
    },
    "vscode": {
     "languageId": "polyglot-notebook"
    }
   },
   "outputs": [
    {
     "name": "stdout",
     "output_type": "stream",
     "text": [
      "Миша Маша Света Игорь Максим марина\n",
      "-=Максим=- -=марина=- -=Маша=- -=Миша=-\n"
     ]
    }
   ],
   "source": [
    "var names = \"Миша, Маша, Света, Игорь, Максим, марина\".Split(\", \");\n",
    "Console.WriteLine(string.Join(\" \", names));\n",
    "\n",
    "var q_names = \n",
    "    from name in names\n",
    "    where name.ToUpper().StartsWith(\"М\")\n",
    "    orderby name\n",
    "    select $\"-={name}=-\";\n",
    "\n",
    "Console.WriteLine(string.Join(\" \", q_names));"
   ]
  },
  {
   "cell_type": "code",
   "execution_count": 15,
   "id": "eee4fd23",
   "metadata": {
    "polyglot_notebook": {
     "kernelName": "csharp"
    },
    "vscode": {
     "languageId": "polyglot-notebook"
    }
   },
   "outputs": [
    {
     "name": "stdout",
     "output_type": "stream",
     "text": [
      "Максим марина Маша Миша\r\n"
     ]
    }
   ],
   "source": [
    "var names_2 = names.Where(n => n.ToUpper().StartsWith(\"М\")).OrderBy(n => n).ToArray();\n",
    "Console.WriteLine(string.Join(\" \", names_2));"
   ]
  },
  {
   "cell_type": "code",
   "execution_count": 18,
   "id": "89a5f34c",
   "metadata": {
    "polyglot_notebook": {
     "kernelName": "csharp"
    },
    "vscode": {
     "languageId": "polyglot-notebook"
    }
   },
   "outputs": [
    {
     "name": "stdout",
     "output_type": "stream",
     "text": [
      "Миша - True\r\n",
      "Маша - True\r\n",
      "Света - True\r\n",
      "Игорь - False\r\n",
      "Максим - True\r\n",
      "марина - True\r\n"
     ]
    }
   ],
   "source": [
    "var names_3 = names.Select(n => $\"{n} - {n.Contains(\"а\")}\").ToArray();\n",
    "// Console.WriteLine(string.Join(\"\\n\", names_3));\n",
    "Console.WriteLine(string.Join(Environment.NewLine, names_3));"
   ]
  }
 ],
 "metadata": {
  "kernelspec": {
   "display_name": ".NET (C#)",
   "language": "C#",
   "name": ".net-csharp"
  },
  "language_info": {
   "name": "python"
  },
  "polyglot_notebook": {
   "kernelInfo": {
    "defaultKernelName": "csharp",
    "items": [
     {
      "aliases": [],
      "name": "csharp"
     }
    ]
   }
  }
 },
 "nbformat": 4,
 "nbformat_minor": 5
}
