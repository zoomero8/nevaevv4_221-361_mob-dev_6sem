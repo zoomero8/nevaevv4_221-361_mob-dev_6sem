{
 "cells": [
  {
   "cell_type": "markdown",
   "metadata": {},
   "source": [
    "# Класс (Class)"
   ]
  },
  {
   "cell_type": "code",
   "execution_count": 33,
   "metadata": {
    "dotnet_interactive": {
     "language": "csharp"
    },
    "polyglot_notebook": {
     "kernelName": "csharp"
    },
    "vscode": {
     "languageId": "polyglot-notebook"
    }
   },
   "outputs": [
    {
     "name": "stdout",
     "output_type": "stream",
     "text": [
      "18\n",
      "Привет!\n",
      "Артем (18)\n",
      "Миша (19)\n"
     ]
    }
   ],
   "source": [
    "class Person\n",
    "{\n",
    "    // Поля\n",
    "    public string name;\n",
    "    public int age = 18;\n",
    "    //Методы\n",
    "    public string Say() => \"Привет!\";\n",
    "}\n",
    "\n",
    "//через поля\n",
    "var p = new Person();\n",
    "p.name = \"Артем\";\n",
    "Console.WriteLine(p.age);\n",
    "Console.WriteLine(p.Say());\n",
    "Console.WriteLine($\"{p.name} ({p.age})\");\n",
    "\n",
    "//через инициализатор объекта\n",
    "var p2 = new Person() { name = \"Миша\", age = 19};\n",
    "Console.WriteLine($\"{p2.name} ({p2.age})\");"
   ]
  },
  {
   "cell_type": "code",
   "execution_count": 34,
   "metadata": {
    "dotnet_interactive": {
     "language": "csharp"
    },
    "polyglot_notebook": {
     "kernelName": "csharp"
    },
    "vscode": {
     "languageId": "polyglot-notebook"
    }
   },
   "outputs": [
    {
     "name": "stdout",
     "output_type": "stream",
     "text": [
      "Юра (20)\r\n"
     ]
    }
   ],
   "source": [
    "// Методы Геттеры и Сеттеры\n",
    "class Person\n",
    "{\n",
    "    // Поля\n",
    "    private string name;\n",
    "    private int age = 18;\n",
    "    //Методы Геттеры и сеттеры\n",
    "    public string GetName() => name;\n",
    "    public void SetName(string value) => name = value;\n",
    "    public int GetAge() => age;\n",
    "    public void SetAge(int value) => age = value;\n",
    "}\n",
    "\n",
    "var p = new Person();\n",
    "p.SetName(\"Юра\");\n",
    "p.SetAge(20);\n",
    "Console.WriteLine($\"{p.GetName()} ({p.GetAge()})\");"
   ]
  },
  {
   "cell_type": "code",
   "execution_count": 35,
   "metadata": {
    "dotnet_interactive": {
     "language": "csharp"
    },
    "polyglot_notebook": {
     "kernelName": "csharp"
    },
    "vscode": {
     "languageId": "polyglot-notebook"
    }
   },
   "outputs": [
    {
     "name": "stdout",
     "output_type": "stream",
     "text": [
      "Юра (20)\n",
      "Юра_20\n"
     ]
    }
   ],
   "source": [
    "// Свойства\n",
    "class Person\n",
    "{\n",
    "    // Поля\n",
    "    private string name;\n",
    "    private int age = 18;\n",
    "    //Свойства\n",
    "    public string Name\n",
    "    {\n",
    "        get\n",
    "        {\n",
    "            return name;\n",
    "        }\n",
    "        set\n",
    "        {\n",
    "            name = value;\n",
    "        }\n",
    "    }\n",
    "    public int Age { get => age; set => age = value; }\n",
    "    //Вычисляемое свойство\n",
    "    public string NickName {get => $\"{Name}_{Age}\";}\n",
    "}\n",
    "\n",
    "var p = new Person();\n",
    "p.Name = \"Юра\";\n",
    "p.Age = 20;\n",
    "Console.WriteLine($\"{p.Name} ({p.Age})\");\n",
    "Console.WriteLine(p.NickName)"
   ]
  },
  {
   "cell_type": "code",
   "execution_count": 36,
   "metadata": {
    "dotnet_interactive": {
     "language": "csharp"
    },
    "polyglot_notebook": {
     "kernelName": "csharp"
    },
    "vscode": {
     "languageId": "polyglot-notebook"
    }
   },
   "outputs": [
    {
     "name": "stdout",
     "output_type": "stream",
     "text": [
      "Юра (20)\r\n"
     ]
    }
   ],
   "source": [
    "// Автоматические Свойства\n",
    "class Person\n",
    "{\n",
    "    public string Name { get; set; }\n",
    "    public int Age { get; set; }   \n",
    "}\n",
    "\n",
    "var p = new Person();\n",
    "p.Name = \"Юра\";\n",
    "p.Age = 20;\n",
    "Console.WriteLine($\"{p.Name} ({p.Age})\");"
   ]
  },
  {
   "cell_type": "code",
   "execution_count": 37,
   "metadata": {
    "dotnet_interactive": {
     "language": "csharp"
    },
    "polyglot_notebook": {
     "kernelName": "csharp"
    },
    "vscode": {
     "languageId": "polyglot-notebook"
    }
   },
   "outputs": [
    {
     "name": "stdout",
     "output_type": "stream",
     "text": [
      "Юра 22\r\n"
     ]
    }
   ],
   "source": [
    "// Обычный конструктор\n",
    "class Person\n",
    "{\n",
    "    public string Name { get; set; }\n",
    "    public int Age { get; set; }\n",
    "    //конструктор\n",
    "    public Person() : this(\"Без имени\") {}\n",
    "    public Person(string name) : this(name, 10) {}\n",
    "    public Person(string name, int age)\n",
    "    {\n",
    "        Name = name;\n",
    "        Age = age;\n",
    "    }\n",
    "}\n",
    "\n",
    "var p = new Person(\"Юра\", 22);\n",
    "Console.WriteLine($\"{p.Name} {p.Age}\")\n",
    "\n"
   ]
  },
  {
   "cell_type": "code",
   "execution_count": 38,
   "metadata": {
    "dotnet_interactive": {
     "language": "csharp"
    },
    "polyglot_notebook": {
     "kernelName": "csharp"
    },
    "vscode": {
     "languageId": "polyglot-notebook"
    }
   },
   "outputs": [
    {
     "name": "stdout",
     "output_type": "stream",
     "text": [
      "Юра 22\n",
      "Submission#38+Person\n"
     ]
    }
   ],
   "source": [
    "// Первичный конструктор (начиная с C# 12.0)\n",
    "class Person(string name, int age)\n",
    "{\n",
    "    public string Name { get; set; } = name;\n",
    "    public int Age { get; set; } = age;\n",
    "}\n",
    "\n",
    "var p = new Person(\"Юра\", 22);\n",
    "Console.WriteLine($\"{p.Name} {p.Age}\");\n",
    "Console.WriteLine(p)"
   ]
  },
  {
   "cell_type": "code",
   "execution_count": 39,
   "metadata": {
    "dotnet_interactive": {
     "language": "csharp"
    },
    "polyglot_notebook": {
     "kernelName": "csharp"
    },
    "vscode": {
     "languageId": "polyglot-notebook"
    }
   },
   "outputs": [
    {
     "name": "stdout",
     "output_type": "stream",
     "text": [
      "Юра 22\n",
      "Person: Юра (22)\n"
     ]
    }
   ],
   "source": [
    "// Первичный конструктор + метод ToString\n",
    "class Person(string name, int age)\n",
    "{\n",
    "    public string Name { get; set; } = name;\n",
    "    public int Age { get; set; } = age;\n",
    "    public override string ToString() => $\"Person: {Name} ({Age})\";\n",
    "}\n",
    "\n",
    "var p = new Person(\"Юра\", 22);\n",
    "Console.WriteLine($\"{p.Name} {p.Age}\");\n",
    "Console.WriteLine(p)"
   ]
  },
  {
   "cell_type": "code",
   "execution_count": null,
   "metadata": {
    "dotnet_interactive": {
     "language": "csharp"
    },
    "polyglot_notebook": {
     "kernelName": "csharp"
    },
    "vscode": {
     "languageId": "polyglot-notebook"
    }
   },
   "outputs": [],
   "source": [
    "// Модификатор init\n",
    "// init - МОЖНО (только) установить:\n",
    "// - либо в объвлении,\n",
    "// - либо в конструкторе,\n",
    "// - либо в инициализаторе.\n",
    "\n",
    "class Person\n",
    "{\n",
    "    public string Name { get; init; } = \"aaa\";\n",
    "    public int Age { get; set; }\n",
    "}\n",
    "\n",
    "var p = new Person() {Name=\"Юра\"};\n",
    "// p.Name = \"Юра\"; // нельзя"
   ]
  },
  {
   "cell_type": "code",
   "execution_count": 54,
   "metadata": {
    "dotnet_interactive": {
     "language": "csharp"
    },
    "polyglot_notebook": {
     "kernelName": "csharp"
    },
    "vscode": {
     "languageId": "polyglot-notebook"
    }
   },
   "outputs": [],
   "source": [
    "// модификатор required\n",
    "// required - НУЖНО (обязательно) установить:\n",
    "// - либо в конструкторе,\n",
    "// - либо в инициализаторе.\n",
    "\n",
    "class Person\n",
    "{\n",
    "    public required string Name { get; set;}\n",
    "    public int Age { get; set; }\n",
    "}\n",
    "\n",
    "var p = new Person() { Name = \"Юра\"};\n",
    "p.Name = \"Миша\";"
   ]
  },
  {
   "cell_type": "code",
   "execution_count": 58,
   "metadata": {
    "dotnet_interactive": {
     "language": "csharp"
    },
    "polyglot_notebook": {
     "kernelName": "csharp"
    },
    "vscode": {
     "languageId": "polyglot-notebook"
    }
   },
   "outputs": [
    {
     "name": "stdout",
     "output_type": "stream",
     "text": [
      "Юра\n",
      "19\n",
      "Привет\n"
     ]
    }
   ],
   "source": [
    "// Деконструктор (не путать с деструктором)\n",
    "\n",
    "class Person(string name, int age)\n",
    "{\n",
    "    public string Name { get; set;} = name;\n",
    "    public int Age { get; set; } = age;\n",
    "    public void Deconstruct(out string name, out int age)\n",
    "    {\n",
    "        name = Name;\n",
    "        age = Age;\n",
    "    }\n",
    "\n",
    "    public void Deconstruct(out string name, out int age, out string text)\n",
    "    {\n",
    "        name = Name;\n",
    "        age = Age;\n",
    "        text = \"Привет\";\n",
    "    }\n",
    "}\n",
    "\n",
    "var p = new Person(\"Юра\", 19);\n",
    "(string name, int age) = p;\n",
    "Console.WriteLine(name);\n",
    "Console.WriteLine(age);\n",
    "\n",
    "//(string name1, int age1, string text) = p;\n",
    "(_, _, string text) = p;\n",
    "Console.WriteLine(text);\n"
   ]
  },
  {
   "cell_type": "code",
   "execution_count": null,
   "metadata": {
    "dotnet_interactive": {
     "language": "csharp"
    },
    "polyglot_notebook": {
     "kernelName": "csharp"
    },
    "vscode": {
     "languageId": "polyglot-notebook"
    }
   },
   "outputs": [
    {
     "ename": "Error",
     "evalue": "(5,36): error CS1597: Semicolon after method or accessor block is not valid",
     "output_type": "error",
     "traceback": [
      "(5,36): error CS1597: Semicolon after method or accessor block is not valid"
     ]
    }
   ],
   "source": [
    "// Наследование\n",
    "\n",
    "class Person\n",
    "{\n",
    "    public string Name { get; set;}\n",
    "}\n",
    "\n",
    "class Employee: Person\n",
    "{\n",
    "    public string Company { get; set; }\n",
    "}\n",
    "\n",
    "var e = new Employee() { Name = \"Ваня\", Company = \"Яндекс\"};"
   ]
  },
  {
   "cell_type": "code",
   "execution_count": 61,
   "metadata": {
    "dotnet_interactive": {
     "language": "csharp"
    },
    "polyglot_notebook": {
     "kernelName": "csharp"
    },
    "vscode": {
     "languageId": "polyglot-notebook"
    }
   },
   "outputs": [],
   "source": [
    "// Наследование + обычный конструктор\n",
    "\n",
    "class Person\n",
    "{\n",
    "    public string Name { get; set;}\n",
    "    public Person(string name)\n",
    "    {\n",
    "        Name = name;\n",
    "    }\n",
    "}\n",
    "\n",
    "class Employee: Person\n",
    "{\n",
    "    public string Company { get; set; }\n",
    "    public Employee(string name, string company): base(name)\n",
    "    {\n",
    "        Company = company;\n",
    "    }\n",
    "}\n",
    "\n",
    "var e = new Employee(name: \"Ваня\", company:\"Яндекс\");"
   ]
  },
  {
   "cell_type": "code",
   "execution_count": 62,
   "metadata": {
    "dotnet_interactive": {
     "language": "csharp"
    },
    "polyglot_notebook": {
     "kernelName": "csharp"
    },
    "vscode": {
     "languageId": "polyglot-notebook"
    }
   },
   "outputs": [],
   "source": [
    "// Наследование + первичный конструктор\n",
    "\n",
    "class Person(string name)\n",
    "{\n",
    "    public string Name {get; set; } = name;\n",
    "}\n",
    "\n",
    "class Employee(string name, string company): Person(name)\n",
    "{\n",
    "    public string Company {get; set; } = company;\n",
    "}\n",
    "\n",
    "var e = new Employee(name: \"Ваня\", company:\"Яндекс\");"
   ]
  },
  {
   "cell_type": "code",
   "execution_count": 46,
   "metadata": {
    "dotnet_interactive": {
     "language": "csharp"
    },
    "polyglot_notebook": {
     "kernelName": "csharp"
    },
    "vscode": {
     "languageId": "polyglot-notebook"
    }
   },
   "outputs": [
    {
     "name": "stdout",
     "output_type": "stream",
     "text": [
      "Ваня\n",
      "Ваня (Яндекс)\n"
     ]
    }
   ],
   "source": [
    "// Переопределение метода\n",
    "\n",
    "class Person(string name)\n",
    "{\n",
    "    public string Name {get; set; } = name;\n",
    "    public virtual void Print() => Console.WriteLine($\"{Name}\");\n",
    "}\n",
    "\n",
    "class Employee(string name, string company): Person(name)\n",
    "{\n",
    "    public string Company {get; set; } = company;\n",
    "    public override void Print()\n",
    "    {\n",
    "        base.Print();\n",
    "        Console.WriteLine($\"{Name} ({Company})\");\n",
    "    }\n",
    "}\n",
    "\n",
    "var e = new Employee(name: \"Ваня\", company:\"Яндекс\");\n",
    "e.Print();"
   ]
  },
  {
   "cell_type": "code",
   "execution_count": 47,
   "metadata": {
    "dotnet_interactive": {
     "language": "csharp"
    },
    "polyglot_notebook": {
     "kernelName": "csharp"
    },
    "vscode": {
     "languageId": "polyglot-notebook"
    }
   },
   "outputs": [
    {
     "name": "stdout",
     "output_type": "stream",
     "text": [
      "18\n",
      "21\n",
      "21\n"
     ]
    }
   ],
   "source": [
    "// Статические поля, методы, свойства и тп.\n",
    "\n",
    "class Person\n",
    "{\n",
    "    public static int minAge = 18;\n",
    "    public int age {get; set;}\n",
    "    public static void PrintMinAge() => Console.WriteLine(minAge);\n",
    "}\n",
    "Console.WriteLine(Person.minAge);\n",
    "Person.minAge = 21;\n",
    "Console.WriteLine(Person.minAge);\n",
    "Person.PrintMinAge();"
   ]
  },
  {
   "cell_type": "code",
   "execution_count": 48,
   "metadata": {
    "dotnet_interactive": {
     "language": "csharp"
    },
    "polyglot_notebook": {
     "kernelName": "csharp"
    },
    "vscode": {
     "languageId": "polyglot-notebook"
    }
   },
   "outputs": [
    {
     "data": {
      "text/html": [
       "<div class=\"dni-plaintext\"><pre>20</pre></div><style>\r\n",
       ".dni-code-hint {\r\n",
       "    font-style: italic;\r\n",
       "    overflow: hidden;\r\n",
       "    white-space: nowrap;\r\n",
       "}\r\n",
       ".dni-treeview {\r\n",
       "    white-space: nowrap;\r\n",
       "}\r\n",
       ".dni-treeview td {\r\n",
       "    vertical-align: top;\r\n",
       "    text-align: start;\r\n",
       "}\r\n",
       "details.dni-treeview {\r\n",
       "    padding-left: 1em;\r\n",
       "}\r\n",
       "table td {\r\n",
       "    text-align: start;\r\n",
       "}\r\n",
       "table tr { \r\n",
       "    vertical-align: top; \r\n",
       "    margin: 0em 0px;\r\n",
       "}\r\n",
       "table tr td pre \r\n",
       "{ \r\n",
       "    vertical-align: top !important; \r\n",
       "    margin: 0em 0px !important;\r\n",
       "} \r\n",
       "table th {\r\n",
       "    text-align: start;\r\n",
       "}\r\n",
       "</style>"
      ]
     },
     "metadata": {},
     "output_type": "display_data"
    }
   ],
   "source": [
    "// Константы - не меняются\n",
    "\n",
    "class Person\n",
    "{\n",
    "    public const int defaultAge = 20;\n",
    "}\n",
    "\n",
    "Person.defaultAge"
   ]
  },
  {
   "cell_type": "code",
   "execution_count": 49,
   "metadata": {
    "dotnet_interactive": {
     "language": "csharp"
    },
    "polyglot_notebook": {
     "kernelName": "csharp"
    },
    "vscode": {
     "languageId": "polyglot-notebook"
    }
   },
   "outputs": [
    {
     "data": {
      "text/plain": [
       "Ваня"
      ]
     },
     "metadata": {},
     "output_type": "display_data"
    }
   ],
   "source": [
    "// Поля для чтения\n",
    "// - либо при объявлении,\n",
    "// - либо в конструкторе\n",
    "\n",
    "class Person\n",
    "{\n",
    "    public readonly string name = \"Петя\";\n",
    "    public Person(string name)\n",
    "    {\n",
    "        this.name = name;\n",
    "    }\n",
    "}\n",
    "\n",
    "var p = new Person(\"Ваня\");\n",
    "p.name"
   ]
  },
  {
   "cell_type": "code",
   "execution_count": 50,
   "metadata": {
    "dotnet_interactive": {
     "language": "csharp"
    },
    "polyglot_notebook": {
     "kernelName": "csharp"
    },
    "vscode": {
     "languageId": "polyglot-notebook"
    }
   },
   "outputs": [
    {
     "name": "stdout",
     "output_type": "stream",
     "text": [
      "Ноутбук\n",
      "Шапка\n",
      "Кепка\n",
      "bag[0] = Ноутбук\n",
      "bag[1] = Планшет\n",
      "bag[2] = Кепка\n",
      "Ноутбук\n",
      "Планшет\n",
      "Кепка\n"
     ]
    }
   ],
   "source": [
    "// Индексаторы\n",
    "\n",
    "class Bag(string[] items)\n",
    "{\n",
    "    private string[] items = items;\n",
    "    // Индексаторы\n",
    "    // public string this[int index]\n",
    "    public string this[Index index]\n",
    "    {\n",
    "        get => items[index];\n",
    "        set => items[index] = value;\n",
    "    }\n",
    "    public int Length { get => items.Length; }\n",
    "\n",
    "    public IEnumerator GetEnumerator() => items.GetEnumerator();\n",
    "}\n",
    "\n",
    "var bag = new Bag([\"Ноутбук\", \"Планшет\", \"Шапка\"]);\n",
    "Console.WriteLine(bag[0]);\n",
    "Console.WriteLine(bag[^1]);\n",
    "bag[^1] = \"Кепка\";\n",
    "Console.WriteLine(bag[^1]);\n",
    "\n",
    "for (var i = 0; i < bag.Length; i++)\n",
    "    Console.WriteLine($\"bag[{i}] = {bag[i]}\");\n",
    "\n",
    "// Необходимо реализовать GetEnumerator\n",
    "foreach (var i in bag)\n",
    "    Console.WriteLine(i);"
   ]
  }
 ],
 "metadata": {
  "kernelspec": {
   "display_name": ".NET (C#)",
   "language": "C#",
   "name": ".net-csharp"
  },
  "language_info": {
   "name": "python"
  },
  "polyglot_notebook": {
   "kernelInfo": {
    "defaultKernelName": "csharp",
    "items": [
     {
      "aliases": [],
      "name": "csharp"
     }
    ]
   }
  }
 },
 "nbformat": 4,
 "nbformat_minor": 2
}
