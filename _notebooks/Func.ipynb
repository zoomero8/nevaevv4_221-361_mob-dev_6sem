{
 "cells": [
  {
   "cell_type": "markdown",
   "metadata": {},
   "source": [
    "# Функции (Методы)"
   ]
  },
  {
   "cell_type": "code",
   "execution_count": 1,
   "metadata": {
    "dotnet_interactive": {
     "language": "csharp"
    },
    "polyglot_notebook": {
     "kernelName": "csharp"
    },
    "vscode": {
     "languageId": "polyglot-notebook"
    }
   },
   "outputs": [
    {
     "name": "stdout",
     "output_type": "stream",
     "text": [
      "Строка\r\n"
     ]
    }
   ],
   "source": [
    "void PrintString()\n",
    "{\n",
    "    Console.WriteLine(\"Строка\");\n",
    "}\n",
    "PrintString();"
   ]
  },
  {
   "cell_type": "code",
   "execution_count": null,
   "metadata": {
    "dotnet_interactive": {
     "language": "csharp"
    },
    "polyglot_notebook": {
     "kernelName": "csharp"
    },
    "vscode": {
     "languageId": "polyglot-notebook"
    }
   },
   "outputs": [],
   "source": [
    "int Sum1(int a, int b)\n",
    "{\n",
    "    return a + b;\n",
    "}\n",
    "\n",
    "int Sum2(int a, int b) => a + b;"
   ]
  },
  {
   "cell_type": "code",
   "execution_count": 4,
   "metadata": {
    "dotnet_interactive": {
     "language": "csharp"
    },
    "polyglot_notebook": {
     "kernelName": "csharp"
    },
    "vscode": {
     "languageId": "polyglot-notebook"
    }
   },
   "outputs": [
    {
     "data": {
      "text/html": [
       "<div class=\"dni-plaintext\"><pre>12</pre></div><style>\r\n",
       ".dni-code-hint {\r\n",
       "    font-style: italic;\r\n",
       "    overflow: hidden;\r\n",
       "    white-space: nowrap;\r\n",
       "}\r\n",
       ".dni-treeview {\r\n",
       "    white-space: nowrap;\r\n",
       "}\r\n",
       ".dni-treeview td {\r\n",
       "    vertical-align: top;\r\n",
       "    text-align: start;\r\n",
       "}\r\n",
       "details.dni-treeview {\r\n",
       "    padding-left: 1em;\r\n",
       "}\r\n",
       "table td {\r\n",
       "    text-align: start;\r\n",
       "}\r\n",
       "table tr { \r\n",
       "    vertical-align: top; \r\n",
       "    margin: 0em 0px;\r\n",
       "}\r\n",
       "table tr td pre \r\n",
       "{ \r\n",
       "    vertical-align: top !important; \r\n",
       "    margin: 0em 0px !important;\r\n",
       "} \r\n",
       "table th {\r\n",
       "    text-align: start;\r\n",
       "}\r\n",
       "</style>"
      ]
     },
     "metadata": {},
     "output_type": "display_data"
    }
   ],
   "source": [
    "int Sum2(int a, int b = 2) => a + b;\n",
    "Sum2(10)"
   ]
  },
  {
   "cell_type": "code",
   "execution_count": 7,
   "metadata": {
    "dotnet_interactive": {
     "language": "csharp"
    },
    "polyglot_notebook": {
     "kernelName": "csharp"
    },
    "vscode": {
     "languageId": "polyglot-notebook"
    }
   },
   "outputs": [
    {
     "name": "stdout",
     "output_type": "stream",
     "text": [
      "1 | 2 | 3\n",
      "1 | 2 | 3 | 4\n"
     ]
    }
   ],
   "source": [
    "void PrintParam1(int[] value)\n",
    "{\n",
    "    Console.WriteLine(String.Join(\" | \", value));\n",
    "}\n",
    "PrintParam1(new int[] {1, 2, 3});\n",
    "PrintParam1([1, 2, 3, 4]);\n",
    "//PrintParam1(1, 2, 3, 4);"
   ]
  },
  {
   "cell_type": "code",
   "execution_count": 8,
   "metadata": {
    "dotnet_interactive": {
     "language": "csharp"
    },
    "polyglot_notebook": {
     "kernelName": "csharp"
    },
    "vscode": {
     "languageId": "polyglot-notebook"
    }
   },
   "outputs": [
    {
     "name": "stdout",
     "output_type": "stream",
     "text": [
      "1 | 2 | 3\n",
      "1 | 2 | 3 | 4\n",
      "1 | 2 | 3 | 4\n"
     ]
    }
   ],
   "source": [
    "void PrintParam1(params int[] value)\n",
    "{\n",
    "    Console.WriteLine(String.Join(\" | \", value));\n",
    "}\n",
    "PrintParam1(new int[] {1, 2, 3});\n",
    "PrintParam1([1, 2, 3, 4]);\n",
    "PrintParam1(1, 2, 3, 4);"
   ]
  },
  {
   "cell_type": "code",
   "execution_count": 11,
   "metadata": {
    "dotnet_interactive": {
     "language": "csharp"
    },
    "polyglot_notebook": {
     "kernelName": "csharp"
    },
    "vscode": {
     "languageId": "polyglot-notebook"
    }
   },
   "outputs": [
    {
     "name": "stdout",
     "output_type": "stream",
     "text": [
      "3\n",
      "Строка!!!\n",
      "15\n"
     ]
    }
   ],
   "source": [
    "// Перегрузка методов\n",
    "int Add(int a, int b) => a + b;\n",
    "string Add(string a, string b) => a + b;\n",
    "\n",
    "int Add(params int[] numbers)\n",
    "{\n",
    "    int sum = 0;\n",
    "    foreach (var number in numbers)\n",
    "        sum += number;\n",
    "    return sum;\n",
    "}\n",
    "\n",
    "Console.WriteLine(Add(1, 2));\n",
    "Console.WriteLine(Add(\"Строка\", \"!!!\"));\n",
    "Console.WriteLine(Add(1, 2, 3, 4, 5));"
   ]
  },
  {
   "cell_type": "code",
   "execution_count": 13,
   "metadata": {
    "dotnet_interactive": {
     "language": "csharp"
    },
    "polyglot_notebook": {
     "kernelName": "csharp"
    },
    "vscode": {
     "languageId": "polyglot-notebook"
    }
   },
   "outputs": [
    {
     "name": "stdout",
     "output_type": "stream",
     "text": [
      "Строка\n",
      "*Строка*\n"
     ]
    }
   ],
   "source": [
    "// Метод расширения\n",
    "static void Print(this string source)\n",
    "{\n",
    "    Console.WriteLine(source);\n",
    "}\n",
    "\n",
    "static void Print(this string source, string border)\n",
    "{\n",
    "    Console.WriteLine($\"{border}{source}{border}\");\n",
    "}\n",
    "\n",
    "string st = \"Строка\";\n",
    "st.Print();\n",
    "st.Print(\"*\")"
   ]
  }
 ],
 "metadata": {
  "kernelspec": {
   "display_name": ".NET (C#)",
   "language": "C#",
   "name": ".net-csharp"
  },
  "language_info": {
   "name": "python"
  },
  "polyglot_notebook": {
   "kernelInfo": {
    "defaultKernelName": "csharp",
    "items": [
     {
      "aliases": [],
      "name": "csharp"
     }
    ]
   }
  }
 },
 "nbformat": 4,
 "nbformat_minor": 2
}
