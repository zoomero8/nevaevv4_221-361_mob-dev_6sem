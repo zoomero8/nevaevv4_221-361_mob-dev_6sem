{
 "cells": [
  {
   "cell_type": "markdown",
   "metadata": {},
   "source": [
    "# Форматировние строк"
   ]
  },
  {
   "cell_type": "code",
   "execution_count": 1,
   "metadata": {
    "dotnet_interactive": {
     "language": "csharp"
    },
    "polyglot_notebook": {
     "kernelName": "csharp"
    },
    "vscode": {
     "languageId": "polyglot-notebook"
    }
   },
   "outputs": [
    {
     "name": "stdout",
     "output_type": "stream",
     "text": [
      "Ваня19\n",
      "Ваня19\n",
      "Ваня_19_19\n",
      "Ваня19\n"
     ]
    }
   ],
   "source": [
    "var name = \"Ваня\";\n",
    "var age = 19;\n",
    "Console.WriteLine(name + age);\n",
    "// Интерполированые строки\n",
    "Console.WriteLine($\"{name}{age}\");\n",
    "Console.WriteLine(String.Join(\"_\", name, age, age));\n",
    "Console.WriteLine(String.Format(\"{0}{1}\", name, age));\n"
   ]
  },
  {
   "cell_type": "code",
   "execution_count": 4,
   "metadata": {
    "dotnet_interactive": {
     "language": "csharp"
    },
    "polyglot_notebook": {
     "kernelName": "csharp"
    },
    "vscode": {
     "languageId": "polyglot-notebook"
    }
   },
   "outputs": [
    {
     "name": "stdout",
     "output_type": "stream",
     "text": [
      "0.16666666666666666\n",
      "0.16666666666666666\n",
      "0.16667\n",
      "16.667%\n",
      "17%\n",
      "1.666667E-001\n",
      "0.16667\n"
     ]
    }
   ],
   "source": [
    "var v = 1 / 6.0;\n",
    "Console.WriteLine(v);\n",
    "\n",
    "Console.WriteLine($\"{v}\");\n",
    "// Окргуление до float с 5ю знаками\n",
    "Console.WriteLine($\"{v:F5}\");\n",
    "// Окргуление до процента\n",
    "Console.WriteLine($\"{v:P}\");\n",
    "// Окргуление до процента c 0 знаками\n",
    "Console.WriteLine($\"{v:P0}\");\n",
    "// Окргуление экспонциальное\n",
    "Console.WriteLine($\"{v:E}\");\n",
    "\n",
    "// Не через Интерполированые строки\n",
    "Console.WriteLine(v.ToString(\"F5\"));"
   ]
  },
  {
   "cell_type": "code",
   "execution_count": 7,
   "metadata": {
    "dotnet_interactive": {
     "language": "csharp"
    },
    "polyglot_notebook": {
     "kernelName": "csharp"
    },
    "vscode": {
     "languageId": "polyglot-notebook"
    }
   },
   "outputs": [
    {
     "name": "stdout",
     "output_type": "stream",
     "text": [
      "16666666.666666668\n",
      "16,666,666.667\n",
      "16,666,666.67\n",
      "¤16,666,666.67\n",
      "¤16,666,666.7\n"
     ]
    }
   ],
   "source": [
    "var v = 1 / 0.00000006;\n",
    "var vG = 1 / 0.000_000_6;\n",
    "Console.WriteLine(v);\n",
    "\n",
    "// Разделитель тысяч\n",
    "Console.WriteLine($\"{v:N}\");\n",
    "Console.WriteLine($\"{v:N2}\");\n",
    "\n",
    "// Валюта\n",
    "Console.WriteLine($\"{v:C}\");\n",
    "Console.WriteLine($\"{v:C1}\");"
   ]
  },
  {
   "cell_type": "code",
   "execution_count": 6,
   "metadata": {
    "dotnet_interactive": {
     "language": "csharp"
    },
    "polyglot_notebook": {
     "kernelName": "csharp"
    },
    "vscode": {
     "languageId": "polyglot-notebook"
    }
   },
   "outputs": [],
   "source": [
    "var n = 255;\n",
    "\n",
    "// Все что после двоеточие передается в метод ToString\n",
    "Console.WriteLine($\"{n:B}\");\n",
    "Console.WriteLine($\"{n:D}\");\n",
    "Console.WriteLine($\"{n:X}\");\n"
   ]
  },
  {
   "cell_type": "code",
   "execution_count": 11,
   "metadata": {
    "dotnet_interactive": {
     "language": "csharp"
    },
    "polyglot_notebook": {
     "kernelName": "csharp"
    },
    "vscode": {
     "languageId": "polyglot-notebook"
    }
   },
   "outputs": [
    {
     "name": "stdout",
     "output_type": "stream",
     "text": [
      "255\n",
      "255\n",
      "15\n"
     ]
    }
   ],
   "source": [
    "// Из двочиной в десятичной конвертация\n",
    "Console.WriteLine(Convert.ToInt32(\"11111111\", 2));\n",
    "Console.WriteLine(Convert.ToInt32(\"377\", 8));\n",
    "Console.WriteLine(Convert.ToInt32(\"F\", 16));"
   ]
  },
  {
   "cell_type": "code",
   "execution_count": 12,
   "metadata": {
    "dotnet_interactive": {
     "language": "csharp"
    },
    "polyglot_notebook": {
     "kernelName": "csharp"
    },
    "vscode": {
     "languageId": "polyglot-notebook"
    }
   },
   "outputs": [
    {
     "name": "stdout",
     "output_type": "stream",
     "text": [
      "15\n",
      "255\n",
      "15\n",
      "255\n",
      "16777215\n"
     ]
    }
   ],
   "source": [
    "// Префиксы\n",
    "\n",
    "var n = 0b1111;\n",
    "Console.WriteLine(n);\n",
    "Console.WriteLine(0b_1111_1111);\n",
    "Console.WriteLine(0xF);\n",
    "Console.WriteLine(0xFF);\n",
    "Console.WriteLine(0xFF_FF_FF);"
   ]
  },
  {
   "cell_type": "code",
   "execution_count": 15,
   "metadata": {
    "dotnet_interactive": {
     "language": "csharp"
    },
    "polyglot_notebook": {
     "kernelName": "csharp"
    },
    "vscode": {
     "languageId": "polyglot-notebook"
    }
   },
   "outputs": [
    {
     "name": "stdout",
     "output_type": "stream",
     "text": [
      "Ваня\n",
      "    Ваня\n",
      "Ваня    \n"
     ]
    }
   ],
   "source": [
    "var name = \"Ваня\";\n",
    "Console.WriteLine($\"{name}\");\n",
    "Console.WriteLine($\"{name,8}\");\n",
    "Console.WriteLine($\"{name,-8}\");"
   ]
  },
  {
   "cell_type": "code",
   "execution_count": null,
   "metadata": {
    "dotnet_interactive": {
     "language": "csharp"
    },
    "polyglot_notebook": {
     "kernelName": "csharp"
    },
    "vscode": {
     "languageId": "polyglot-notebook"
    }
   },
   "outputs": [],
   "source": [
    "// Маска числа\n",
    "var n = 123;\n",
    "Console.WriteLine($\"{n}\");\n",
    "Console.WriteLine($\"{n:###_#_##}\");\n",
    "Console.WriteLine($\"{n:000__0 00}\");"
   ]
  },
  {
   "cell_type": "code",
   "execution_count": 17,
   "metadata": {
    "dotnet_interactive": {
     "language": "csharp"
    },
    "polyglot_notebook": {
     "kernelName": "csharp"
    },
    "vscode": {
     "languageId": "polyglot-notebook"
    }
   },
   "outputs": [
    {
     "name": "stdout",
     "output_type": "stream",
     "text": [
      " +7 (926) 111-22-33\n",
      " +7 (006) 111-22-33\n"
     ]
    }
   ],
   "source": [
    "var n = 926_111_22_33;\n",
    "\n",
    "Console.WriteLine($\"{n: +7 (000) ###-##-##}\");\n",
    "\n",
    "var b = 6_111_22_33;\n",
    "\n",
    "Console.WriteLine($\"{b: +7 (000) ###-##-##}\");"
   ]
  }
 ],
 "metadata": {
  "kernelspec": {
   "display_name": ".NET (C#)",
   "language": "C#",
   "name": ".net-csharp"
  },
  "language_info": {
   "name": "csharp"
  },
  "polyglot_notebook": {
   "kernelInfo": {
    "defaultKernelName": "csharp",
    "items": [
     {
      "aliases": [],
      "name": "csharp"
     }
    ]
   }
  }
 },
 "nbformat": 4,
 "nbformat_minor": 2
}
