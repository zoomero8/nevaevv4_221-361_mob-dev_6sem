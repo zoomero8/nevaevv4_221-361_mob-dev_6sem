{
 "cells": [
  {
   "cell_type": "markdown",
   "metadata": {},
   "source": [
    "# Делегат (delegate)"
   ]
  },
  {
   "cell_type": "markdown",
   "metadata": {},
   "source": [
    "## Пользовательские делегаты"
   ]
  },
  {
   "cell_type": "code",
   "execution_count": 7,
   "metadata": {
    "dotnet_interactive": {
     "language": "csharp"
    },
    "polyglot_notebook": {
     "kernelName": "csharp"
    },
    "vscode": {
     "languageId": "polyglot-notebook"
    }
   },
   "outputs": [
    {
     "name": "stdout",
     "output_type": "stream",
     "text": [
      "How are you?\r\n"
     ]
    }
   ],
   "source": [
    "delegate void Work();\n",
    "\n",
    "void Hello() => Console.WriteLine(\"Hello\");\n",
    "void HowAreYou() => Console.WriteLine(\"How are you?\");\n",
    "\n",
    "// Однотипные делегаты\n",
    "Work work;\n",
    "work = Hello;\n",
    "work = HowAreYou;\n",
    "\n",
    "work.Invoke();\n",
    "// work(); // сокращенная форма вызова"
   ]
  },
  {
   "cell_type": "code",
   "execution_count": 12,
   "metadata": {
    "dotnet_interactive": {
     "language": "csharp"
    },
    "polyglot_notebook": {
     "kernelName": "csharp"
    },
    "vscode": {
     "languageId": "polyglot-notebook"
    }
   },
   "outputs": [
    {
     "name": "stdout",
     "output_type": "stream",
     "text": [
      "How are you?\n",
      "Hello\n",
      "Hello\n",
      "What?\n",
      "Вау\n"
     ]
    }
   ],
   "source": [
    "// Многотипные делегаты\n",
    "Work work;\n",
    "work += Hello;\n",
    "work += HowAreYou;\n",
    "work += HowAreYou;\n",
    "work -= HowAreYou;\n",
    "work -= Hello;\n",
    "work += Hello;\n",
    "work += Hello;\n",
    "// Анонимный метод\n",
    "work += delegate() { Console.WriteLine(\"What?\"); };\n",
    "//Лямбда-выражение\n",
    "work += () => Console.WriteLine(\"Вау\");\n",
    "\n",
    "work.Invoke();"
   ]
  },
  {
   "cell_type": "code",
   "execution_count": 13,
   "metadata": {
    "dotnet_interactive": {
     "language": "csharp"
    },
    "polyglot_notebook": {
     "kernelName": "csharp"
    },
    "vscode": {
     "languageId": "polyglot-notebook"
    }
   },
   "outputs": [],
   "source": [
    "// TODO"
   ]
  }
 ],
 "metadata": {
  "kernelspec": {
   "display_name": ".NET (C#)",
   "language": "C#",
   "name": ".net-csharp"
  },
  "language_info": {
   "name": "python"
  },
  "polyglot_notebook": {
   "kernelInfo": {
    "defaultKernelName": "csharp",
    "items": [
     {
      "aliases": [],
      "name": "csharp"
     }
    ]
   }
  }
 },
 "nbformat": 4,
 "nbformat_minor": 2
}
