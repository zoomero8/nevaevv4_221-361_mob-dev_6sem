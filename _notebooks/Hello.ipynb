{
 "cells": [
  {
   "cell_type": "code",
   "execution_count": 1,
   "metadata": {
    "dotnet_interactive": {
     "language": "csharp"
    },
    "polyglot_notebook": {
     "kernelName": "csharp"
    },
    "vscode": {
     "languageId": "polyglot-notebook"
    }
   },
   "outputs": [
    {
     "name": "stdout",
     "output_type": "stream",
     "text": [
      "Привет!\r\n"
     ]
    }
   ],
   "source": [
    "Console.WriteLine(\"Привет!\")"
   ]
  },
  {
   "cell_type": "code",
   "execution_count": 2,
   "metadata": {
    "dotnet_interactive": {
     "language": "csharp"
    },
    "polyglot_notebook": {
     "kernelName": "csharp"
    },
    "vscode": {
     "languageId": "polyglot-notebook"
    }
   },
   "outputs": [],
   "source": [
    "int i = 123;"
   ]
  },
  {
   "cell_type": "code",
   "execution_count": 3,
   "metadata": {
    "dotnet_interactive": {
     "language": "csharp"
    },
    "polyglot_notebook": {
     "kernelName": "csharp"
    },
    "vscode": {
     "languageId": "polyglot-notebook"
    }
   },
   "outputs": [
    {
     "name": "stdout",
     "output_type": "stream",
     "text": [
      "123\r\n"
     ]
    }
   ],
   "source": [
    "Console.WriteLine(i)"
   ]
  },
  {
   "cell_type": "code",
   "execution_count": 4,
   "metadata": {
    "dotnet_interactive": {
     "language": "csharp"
    },
    "polyglot_notebook": {
     "kernelName": "csharp"
    },
    "vscode": {
     "languageId": "polyglot-notebook"
    }
   },
   "outputs": [],
   "source": [
    "// комментарий\n",
    "\n",
    "/*\n",
    "аа\n",
    "*/"
   ]
  },
  {
   "cell_type": "code",
   "execution_count": 5,
   "metadata": {
    "dotnet_interactive": {
     "language": "csharp"
    },
    "polyglot_notebook": {
     "kernelName": "csharp"
    },
    "vscode": {
     "languageId": "polyglot-notebook"
    }
   },
   "outputs": [
    {
     "name": "stdout",
     "output_type": "stream",
     "text": [
      "11"
     ]
    }
   ],
   "source": [
    "Console.Write(11);\n"
   ]
  },
  {
   "cell_type": "code",
   "execution_count": 6,
   "metadata": {
    "dotnet_interactive": {
     "language": "csharp"
    },
    "polyglot_notebook": {
     "kernelName": "csharp"
    },
    "vscode": {
     "languageId": "polyglot-notebook"
    }
   },
   "outputs": [
    {
     "name": "stdout",
     "output_type": "stream",
     "text": [
      "hello\n",
      "2\n",
      "💃\n"
     ]
    }
   ],
   "source": [
    "Console.WriteLine(\"hello\");\n",
    "//Console.WriteLine(\"hello\" * 3);\n",
    "Console.WriteLine('2');\n",
    "Console.WriteLine(\"💃\");"
   ]
  },
  {
   "cell_type": "code",
   "execution_count": 7,
   "metadata": {
    "dotnet_interactive": {
     "language": "csharp"
    },
    "polyglot_notebook": {
     "kernelName": "csharp"
    },
    "vscode": {
     "languageId": "polyglot-notebook"
    }
   },
   "outputs": [
    {
     "name": "stdout",
     "output_type": "stream",
     "text": [
      "4\n",
      "4.5\n",
      "1\n",
      "18\n",
      "81\n"
     ]
    }
   ],
   "source": [
    "Console.WriteLine(9 / 2);\n",
    "Console.WriteLine(9 / 2.0);\n",
    "Console.WriteLine(9 % 2);\n",
    "Console.WriteLine(9 * 2);\n",
    "Console.WriteLine(Math.Pow(9, 2));"
   ]
  },
  {
   "cell_type": "code",
   "execution_count": 8,
   "metadata": {
    "dotnet_interactive": {
     "language": "csharp"
    },
    "polyglot_notebook": {
     "kernelName": "csharp"
    },
    "vscode": {
     "languageId": "polyglot-notebook"
    }
   },
   "outputs": [
    {
     "data": {
      "text/html": [
       "<div class=\"dni-plaintext\"><pre>11</pre></div><style>\r\n",
       ".dni-code-hint {\r\n",
       "    font-style: italic;\r\n",
       "    overflow: hidden;\r\n",
       "    white-space: nowrap;\r\n",
       "}\r\n",
       ".dni-treeview {\r\n",
       "    white-space: nowrap;\r\n",
       "}\r\n",
       ".dni-treeview td {\r\n",
       "    vertical-align: top;\r\n",
       "    text-align: start;\r\n",
       "}\r\n",
       "details.dni-treeview {\r\n",
       "    padding-left: 1em;\r\n",
       "}\r\n",
       "table td {\r\n",
       "    text-align: start;\r\n",
       "}\r\n",
       "table tr { \r\n",
       "    vertical-align: top; \r\n",
       "    margin: 0em 0px;\r\n",
       "}\r\n",
       "table tr td pre \r\n",
       "{ \r\n",
       "    vertical-align: top !important; \r\n",
       "    margin: 0em 0px !important;\r\n",
       "} \r\n",
       "table th {\r\n",
       "    text-align: start;\r\n",
       "}\r\n",
       "</style>"
      ]
     },
     "metadata": {},
     "output_type": "display_data"
    }
   ],
   "source": [
    "int x = 1;\n",
    "x += 10; // <-- x = x + 10\n",
    "x"
   ]
  },
  {
   "cell_type": "code",
   "execution_count": 9,
   "metadata": {
    "dotnet_interactive": {
     "language": "csharp"
    },
    "polyglot_notebook": {
     "kernelName": "csharp"
    },
    "vscode": {
     "languageId": "polyglot-notebook"
    }
   },
   "outputs": [
    {
     "name": "stdout",
     "output_type": "stream",
     "text": [
      "True\n",
      "True\n",
      "False\n"
     ]
    }
   ],
   "source": [
    "// Python 'e' in 'Hello'\n",
    "Console.WriteLine(\"Hello\".Contains(\"e\"));\n",
    "Console.WriteLine(\"Hello\".Contains(\"el\"));\n",
    "Console.WriteLine(\"Hello\".Contains(\"z\"));"
   ]
  },
  {
   "cell_type": "code",
   "execution_count": 10,
   "metadata": {
    "dotnet_interactive": {
     "language": "csharp"
    },
    "polyglot_notebook": {
     "kernelName": "csharp"
    },
    "vscode": {
     "languageId": "polyglot-notebook"
    }
   },
   "outputs": [
    {
     "data": {
      "text/html": [
       "<div class=\"dni-plaintext\"><pre>False</pre></div><style>\r\n",
       ".dni-code-hint {\r\n",
       "    font-style: italic;\r\n",
       "    overflow: hidden;\r\n",
       "    white-space: nowrap;\r\n",
       "}\r\n",
       ".dni-treeview {\r\n",
       "    white-space: nowrap;\r\n",
       "}\r\n",
       ".dni-treeview td {\r\n",
       "    vertical-align: top;\r\n",
       "    text-align: start;\r\n",
       "}\r\n",
       "details.dni-treeview {\r\n",
       "    padding-left: 1em;\r\n",
       "}\r\n",
       "table td {\r\n",
       "    text-align: start;\r\n",
       "}\r\n",
       "table tr { \r\n",
       "    vertical-align: top; \r\n",
       "    margin: 0em 0px;\r\n",
       "}\r\n",
       "table tr td pre \r\n",
       "{ \r\n",
       "    vertical-align: top !important; \r\n",
       "    margin: 0em 0px !important;\r\n",
       "} \r\n",
       "table th {\r\n",
       "    text-align: start;\r\n",
       "}\r\n",
       "</style>"
      ]
     },
     "metadata": {},
     "output_type": "display_data"
    }
   ],
   "source": [
    "1 == 2"
   ]
  },
  {
   "cell_type": "code",
   "execution_count": 11,
   "metadata": {
    "dotnet_interactive": {
     "language": "csharp"
    },
    "polyglot_notebook": {
     "kernelName": "csharp"
    },
    "vscode": {
     "languageId": "polyglot-notebook"
    }
   },
   "outputs": [
    {
     "name": "stdout",
     "output_type": "stream",
     "text": [
      "True\n",
      "True\n",
      "True\n",
      "True\n",
      "False\n"
     ]
    }
   ],
   "source": [
    "int x = 1;\n",
    "int y = 2;\n",
    "Console.WriteLine(x > 0 && x < 2); // если первое false, то второе не рассматривается\n",
    "Console.WriteLine(x > 0 & x < 2); // все выражения рассматриваются\n",
    "Console.WriteLine(x > 0 || x < 2); // ИЛИ\n",
    "Console.WriteLine(x > 0 | x < 2); \n",
    "Console.WriteLine(!(x > 0)); // отрицание\n"
   ]
  },
  {
   "cell_type": "code",
   "execution_count": 12,
   "metadata": {
    "dotnet_interactive": {
     "language": "csharp"
    },
    "polyglot_notebook": {
     "kernelName": "csharp"
    },
    "vscode": {
     "languageId": "polyglot-notebook"
    }
   },
   "outputs": [
    {
     "name": "stdout",
     "output_type": "stream",
     "text": [
      "yes\r\n"
     ]
    }
   ],
   "source": [
    "var x = 1;\n",
    "var y = 2;\n",
    "if (x < y)\n",
    "{\n",
    "    Console.WriteLine(\"yes\");\n",
    "}\n",
    "else\n",
    "{\n",
    "    Console.WriteLine(\"no\");\n",
    "}\n",
    "\n",
    "//Python else if => elif"
   ]
  },
  {
   "cell_type": "code",
   "execution_count": 13,
   "metadata": {
    "dotnet_interactive": {
     "language": "csharp"
    },
    "polyglot_notebook": {
     "kernelName": "csharp"
    },
    "vscode": {
     "languageId": "polyglot-notebook"
    }
   },
   "outputs": [
    {
     "data": {
      "text/plain": [
       "no"
      ]
     },
     "metadata": {},
     "output_type": "display_data"
    }
   ],
   "source": [
    "3 < 2 ? \"yes\" : \"no\""
   ]
  },
  {
   "cell_type": "code",
   "execution_count": 14,
   "metadata": {
    "dotnet_interactive": {
     "language": "csharp"
    },
    "polyglot_notebook": {
     "kernelName": "csharp"
    },
    "vscode": {
     "languageId": "polyglot-notebook"
    }
   },
   "outputs": [
    {
     "data": {
      "text/plain": [
       "no"
      ]
     },
     "metadata": {},
     "output_type": "display_data"
    }
   ],
   "source": [
    "var r = 3 < 2 ? \"yes\": \"no\";\n",
    "r"
   ]
  },
  {
   "cell_type": "code",
   "execution_count": 15,
   "metadata": {
    "dotnet_interactive": {
     "language": "csharp"
    },
    "polyglot_notebook": {
     "kernelName": "csharp"
    },
    "vscode": {
     "languageId": "polyglot-notebook"
    }
   },
   "outputs": [],
   "source": [
    "var x = \"12\";\n",
    "var y = 12;"
   ]
  },
  {
   "cell_type": "code",
   "execution_count": 16,
   "metadata": {
    "dotnet_interactive": {
     "language": "csharp"
    },
    "polyglot_notebook": {
     "kernelName": "csharp"
    },
    "vscode": {
     "languageId": "polyglot-notebook"
    }
   },
   "outputs": [
    {
     "data": {
      "text/html": [
       "<div class=\"dni-plaintext\"><pre>-1</pre></div><style>\r\n",
       ".dni-code-hint {\r\n",
       "    font-style: italic;\r\n",
       "    overflow: hidden;\r\n",
       "    white-space: nowrap;\r\n",
       "}\r\n",
       ".dni-treeview {\r\n",
       "    white-space: nowrap;\r\n",
       "}\r\n",
       ".dni-treeview td {\r\n",
       "    vertical-align: top;\r\n",
       "    text-align: start;\r\n",
       "}\r\n",
       "details.dni-treeview {\r\n",
       "    padding-left: 1em;\r\n",
       "}\r\n",
       "table td {\r\n",
       "    text-align: start;\r\n",
       "}\r\n",
       "table tr { \r\n",
       "    vertical-align: top; \r\n",
       "    margin: 0em 0px;\r\n",
       "}\r\n",
       "table tr td pre \r\n",
       "{ \r\n",
       "    vertical-align: top !important; \r\n",
       "    margin: 0em 0px !important;\r\n",
       "} \r\n",
       "table th {\r\n",
       "    text-align: start;\r\n",
       "}\r\n",
       "</style>"
      ]
     },
     "metadata": {},
     "output_type": "display_data"
    }
   ],
   "source": [
    "int r = 0;\n",
    "char c = '-';\n",
    "\n",
    "switch (c)\n",
    "{\n",
    "    case '-':\n",
    "        r -= 1;\n",
    "        break;\n",
    "    case '+':\n",
    "        r += 1;\n",
    "        break;\n",
    "    default:\n",
    "        r = 0;\n",
    "        break;\n",
    "}\n",
    "r"
   ]
  },
  {
   "cell_type": "code",
   "execution_count": 17,
   "metadata": {
    "dotnet_interactive": {
     "language": "csharp"
    },
    "polyglot_notebook": {
     "kernelName": "csharp"
    },
    "vscode": {
     "languageId": "polyglot-notebook"
    }
   },
   "outputs": [
    {
     "name": "stdout",
     "output_type": "stream",
     "text": [
      "123"
     ]
    }
   ],
   "source": [
    "var i = 1;\n",
    "while (i < 4)\n",
    "{\n",
    "    Console.Write(i);\n",
    "    i++;\n",
    "}"
   ]
  },
  {
   "cell_type": "code",
   "execution_count": 18,
   "metadata": {
    "dotnet_interactive": {
     "language": "csharp"
    },
    "polyglot_notebook": {
     "kernelName": "csharp"
    },
    "vscode": {
     "languageId": "polyglot-notebook"
    }
   },
   "outputs": [
    {
     "name": "stdout",
     "output_type": "stream",
     "text": [
      "123"
     ]
    }
   ],
   "source": [
    "var i = 1;\n",
    "\n",
    "do\n",
    "{\n",
    "    Console.Write(i);\n",
    "    i++;\n",
    "}\n",
    "while (i < 4);"
   ]
  },
  {
   "cell_type": "code",
   "execution_count": 19,
   "metadata": {
    "dotnet_interactive": {
     "language": "csharp"
    },
    "polyglot_notebook": {
     "kernelName": "csharp"
    },
    "vscode": {
     "languageId": "polyglot-notebook"
    }
   },
   "outputs": [
    {
     "name": "stdout",
     "output_type": "stream",
     "text": [
      "H\n",
      "e\n",
      "l\n",
      "l\n",
      "o\n"
     ]
    }
   ],
   "source": [
    "foreach (var i in \"Hello\")\n",
    "{\n",
    "    Console.WriteLine(i);\n",
    "}"
   ]
  },
  {
   "cell_type": "code",
   "execution_count": 20,
   "metadata": {
    "dotnet_interactive": {
     "language": "csharp"
    },
    "polyglot_notebook": {
     "kernelName": "csharp"
    },
    "vscode": {
     "languageId": "polyglot-notebook"
    }
   },
   "outputs": [
    {
     "name": "stdout",
     "output_type": "stream",
     "text": [
      "1\n",
      "2\n",
      "3\n"
     ]
    }
   ],
   "source": [
    "for (int i = 1; i < 4; i++)\n",
    "{\n",
    "    Console.WriteLine(i);\n",
    "}"
   ]
  },
  {
   "cell_type": "code",
   "execution_count": 21,
   "metadata": {
    "dotnet_interactive": {
     "language": "csharp"
    },
    "polyglot_notebook": {
     "kernelName": "csharp"
    },
    "vscode": {
     "languageId": "polyglot-notebook"
    }
   },
   "outputs": [
    {
     "name": "stdout",
     "output_type": "stream",
     "text": [
      "0\n",
      "20\n",
      "30\n",
      "40\n"
     ]
    }
   ],
   "source": [
    "for (int i = 0; i < 50; i+=10)\n",
    "{\n",
    "    if (i==10)\n",
    "        continue;\n",
    "    Console.WriteLine(i);\n",
    "}"
   ]
  },
  {
   "cell_type": "code",
   "execution_count": 22,
   "metadata": {
    "dotnet_interactive": {
     "language": "csharp"
    },
    "polyglot_notebook": {
     "kernelName": "csharp"
    },
    "vscode": {
     "languageId": "polyglot-notebook"
    }
   },
   "outputs": [],
   "source": [
    "for (;;)\n",
    "{\n",
    "    //бесконечный цикл\n",
    "    break;\n",
    "}"
   ]
  },
  {
   "cell_type": "code",
   "execution_count": 23,
   "metadata": {
    "dotnet_interactive": {
     "language": "csharp"
    },
    "polyglot_notebook": {
     "kernelName": "csharp"
    },
    "vscode": {
     "languageId": "polyglot-notebook"
    }
   },
   "outputs": [
    {
     "data": {
      "text/html": [
       "<div class=\"dni-plaintext\"><pre>0</pre></div><style>\r\n",
       ".dni-code-hint {\r\n",
       "    font-style: italic;\r\n",
       "    overflow: hidden;\r\n",
       "    white-space: nowrap;\r\n",
       "}\r\n",
       ".dni-treeview {\r\n",
       "    white-space: nowrap;\r\n",
       "}\r\n",
       ".dni-treeview td {\r\n",
       "    vertical-align: top;\r\n",
       "    text-align: start;\r\n",
       "}\r\n",
       "details.dni-treeview {\r\n",
       "    padding-left: 1em;\r\n",
       "}\r\n",
       "table td {\r\n",
       "    text-align: start;\r\n",
       "}\r\n",
       "table tr { \r\n",
       "    vertical-align: top; \r\n",
       "    margin: 0em 0px;\r\n",
       "}\r\n",
       "table tr td pre \r\n",
       "{ \r\n",
       "    vertical-align: top !important; \r\n",
       "    margin: 0em 0px !important;\r\n",
       "} \r\n",
       "table th {\r\n",
       "    text-align: start;\r\n",
       "}\r\n",
       "</style>"
      ]
     },
     "metadata": {},
     "output_type": "display_data"
    }
   ],
   "source": [
    "byte b = 255;\n",
    "b += 1;\n",
    "b"
   ]
  },
  {
   "cell_type": "code",
   "execution_count": 24,
   "metadata": {
    "dotnet_interactive": {
     "language": "csharp"
    },
    "polyglot_notebook": {
     "kernelName": "csharp"
    },
    "vscode": {
     "languageId": "polyglot-notebook"
    }
   },
   "outputs": [
    {
     "name": "stdout",
     "output_type": "stream",
     "text": [
      "byte     | 0 .. 255\n",
      "sbyte    | -128 .. 127\n",
      "short    | -32768 .. 32767\n",
      "ushort   | 0 .. 65535\n",
      "int      | -2147483648 .. 2147483647\n",
      "uint     | 0 .. 4294967295\n",
      "long     | -9223372036854775808 .. 9223372036854775807\n",
      "ulong    | 0 .. 18446744073709551615\n",
      "nint     | -9223372036854775808 .. 9223372036854775807\n"
     ]
    }
   ],
   "source": [
    "// 1 байт (8 бит)\n",
    "Console.WriteLine($\"byte     | {byte.MinValue} .. {byte.MaxValue}\");\n",
    "Console.WriteLine($\"sbyte    | {sbyte.MinValue} .. {sbyte.MaxValue}\");\n",
    "// 2 байт (16 бит)\n",
    "Console.WriteLine($\"short    | {short.MinValue} .. {short.MaxValue}\");\n",
    "Console.WriteLine($\"ushort   | {ushort.MinValue} .. {ushort.MaxValue}\");\n",
    "//4 байт (32 бит)\n",
    "Console.WriteLine($\"int      | {int.MinValue} .. {int.MaxValue}\");\n",
    "Console.WriteLine($\"uint     | {uint.MinValue} .. {uint.MaxValue}\");\n",
    "// 8 байт (64 бит)\n",
    "Console.WriteLine($\"long     | {long.MinValue} .. {long.MaxValue}\");\n",
    "Console.WriteLine($\"ulong    | {ulong.MinValue} .. {ulong.MaxValue}\");\n",
    "// зависит от CPU\n",
    "Console.WriteLine($\"nint     | {nint.MinValue} .. {nint.MaxValue}\");\n",
    "\n"
   ]
  },
  {
   "cell_type": "code",
   "execution_count": 25,
   "metadata": {
    "dotnet_interactive": {
     "language": "csharp"
    },
    "polyglot_notebook": {
     "kernelName": "csharp"
    },
    "vscode": {
     "languageId": "polyglot-notebook"
    }
   },
   "outputs": [
    {
     "name": "stdout",
     "output_type": "stream",
     "text": [
      "float     | -3.4028235E+38 .. 3.4028235E+38\n",
      "duoble    | -1.7976931348623157E+308 .. 1.7976931348623157E+308\n",
      "decimal    | -79228162514264337593543950335 .. 79228162514264337593543950335\n"
     ]
    }
   ],
   "source": [
    "// 4 байт\n",
    "Console.WriteLine($\"float     | {float.MinValue} .. {float.MaxValue}\");\n",
    "// 8 байт\n",
    "Console.WriteLine($\"duoble    | {double.MinValue} .. {double.MaxValue}\");\n",
    "// 16 байт\n",
    "Console.WriteLine($\"decimal    | {decimal.MinValue} .. {decimal.MaxValue}\");"
   ]
  },
  {
   "cell_type": "code",
   "execution_count": 26,
   "metadata": {
    "dotnet_interactive": {
     "language": "csharp"
    },
    "polyglot_notebook": {
     "kernelName": "csharp"
    },
    "vscode": {
     "languageId": "polyglot-notebook"
    }
   },
   "outputs": [
    {
     "name": "stdout",
     "output_type": "stream",
     "text": [
      "byte     | 1 | System.Byte\n",
      "int      | 4 | System.Int32\n",
      "long     | 8 | System.Int64\n"
     ]
    }
   ],
   "source": [
    "Console.WriteLine($\"byte     | {sizeof(byte)} | {typeof(byte)}\");\n",
    "Console.WriteLine($\"int      | {sizeof(int)} | {typeof(int)}\");\n",
    "Console.WriteLine($\"long     | {sizeof(long)} | {typeof(long)}\");\n"
   ]
  },
  {
   "cell_type": "code",
   "execution_count": 27,
   "metadata": {
    "dotnet_interactive": {
     "language": "csharp"
    },
    "polyglot_notebook": {
     "kernelName": "csharp"
    },
    "vscode": {
     "languageId": "polyglot-notebook"
    }
   },
   "outputs": [
    {
     "data": {
      "text/html": [
       "<span><a href=\"https://docs.microsoft.com/dotnet/api/system.int32?view=net-7.0\">System.Int32</a></span>"
      ]
     },
     "metadata": {},
     "output_type": "display_data"
    }
   ],
   "source": [
    "var x = 123;\n",
    "x.GetType()"
   ]
  },
  {
   "cell_type": "code",
   "execution_count": 28,
   "metadata": {
    "dotnet_interactive": {
     "language": "csharp"
    },
    "polyglot_notebook": {
     "kernelName": "csharp"
    },
    "vscode": {
     "languageId": "polyglot-notebook"
    }
   },
   "outputs": [
    {
     "name": "stdout",
     "output_type": "stream",
     "text": [
      "System.Int32\n",
      "System.Int64\n",
      "System.Single\n",
      "System.Double\n",
      "System.Decimal\n",
      "System.Double\n"
     ]
    }
   ],
   "source": [
    "// Числовые литералы\n",
    "Console.WriteLine(123.GetType());\n",
    "Console.WriteLine(123L.GetType());\n",
    "Console.WriteLine(123F.GetType());\n",
    "Console.WriteLine(123D.GetType());\n",
    "Console.WriteLine(123M.GetType());\n",
    "Console.WriteLine(3.14.GetType());"
   ]
  },
  {
   "cell_type": "code",
   "execution_count": 29,
   "metadata": {
    "dotnet_interactive": {
     "language": "csharp"
    },
    "polyglot_notebook": {
     "kernelName": "csharp"
    },
    "vscode": {
     "languageId": "polyglot-notebook"
    }
   },
   "outputs": [
    {
     "name": "stdout",
     "output_type": "stream",
     "text": [
      "0.30000000000000004\n",
      "0.3\n"
     ]
    }
   ],
   "source": [
    "Console.WriteLine(0.1 + 0.1 + 0.1);\n",
    "Console.WriteLine(0.1M + 0.1M + 0.1M);"
   ]
  },
  {
   "cell_type": "code",
   "execution_count": 30,
   "metadata": {
    "dotnet_interactive": {
     "language": "csharp"
    },
    "polyglot_notebook": {
     "kernelName": "csharp"
    },
    "vscode": {
     "languageId": "polyglot-notebook"
    }
   },
   "outputs": [
    {
     "name": "stdout",
     "output_type": "stream",
     "text": [
      "********************\n",
      "*                  *\n",
      "*                  *\n",
      "*                  *\n",
      "********************\n"
     ]
    }
   ],
   "source": [
    "// плохо\n",
    "// int w = 20;\n",
    "// int h = 5;\n",
    "// char c = '*';\n",
    "// bool f = true;\n",
    "\n",
    "int width = 20;\n",
    "int height = 5;\n",
    "char symbol = '*';\n",
    "bool isFill = ! true; // Python: is_fill\n",
    "\n",
    "// (1)\n",
    "for (int r = 0; r < height; r++)\n",
    "{\n",
    "    for (int c = 0; c < width; c++)\n",
    "    {\n",
    "        if (isFill)\n",
    "        {\n",
    "            Console.Write(symbol);\n",
    "        }\n",
    "        else\n",
    "        {\n",
    "            if (r == 0 || r == height-1 || c == 0 || c == width-1)\n",
    "            {\n",
    "                Console.Write(symbol);\n",
    "            }\n",
    "            else\n",
    "            {\n",
    "                Console.Write(' ');\n",
    "            }\n",
    "        }\n",
    "    }\n",
    "    Console.WriteLine();\n",
    "}\n",
    "\n",
    "\n",
    "\n"
   ]
  },
  {
   "cell_type": "code",
   "execution_count": 31,
   "metadata": {
    "dotnet_interactive": {
     "language": "csharp"
    },
    "polyglot_notebook": {
     "kernelName": "csharp"
    },
    "vscode": {
     "languageId": "polyglot-notebook"
    }
   },
   "outputs": [
    {
     "name": "stdout",
     "output_type": "stream",
     "text": [
      "********************\n",
      "*                  *\n",
      "*                  *\n",
      "*                  *\n",
      "********************\n"
     ]
    }
   ],
   "source": [
    "\n",
    "int width = 20;\n",
    "int height = 5;\n",
    "char symbol = '*';\n",
    "bool isFill = ! true; // Python: is_fill\n",
    "\n",
    "// (2)\n",
    "for (int r = 0; r < height; r++)\n",
    "{\n",
    "    for (int c = 0; c < width; c++)\n",
    "    {\n",
    "        bool isSymb = (isFill || r == 0 || r == height-1 || c == 0 || c == width-1);\n",
    "        Console.Write(isSymb ? symbol : ' ');\n",
    "    }\n",
    "    Console.WriteLine();\n",
    "}"
   ]
  },
  {
   "cell_type": "code",
   "execution_count": 32,
   "metadata": {
    "dotnet_interactive": {
     "language": "csharp"
    },
    "polyglot_notebook": {
     "kernelName": "csharp"
    },
    "vscode": {
     "languageId": "polyglot-notebook"
    }
   },
   "outputs": [
    {
     "data": {
      "text/plain": [
       "**********"
      ]
     },
     "metadata": {},
     "output_type": "display_data"
    }
   ],
   "source": [
    "new string('*', 10)"
   ]
  },
  {
   "cell_type": "code",
   "execution_count": 33,
   "metadata": {
    "dotnet_interactive": {
     "language": "csharp"
    },
    "polyglot_notebook": {
     "kernelName": "csharp"
    },
    "vscode": {
     "languageId": "polyglot-notebook"
    }
   },
   "outputs": [
    {
     "name": "stdout",
     "output_type": "stream",
     "text": [
      "********************\n",
      "********************\n",
      "********************\n",
      "********************\n",
      "********************\n"
     ]
    }
   ],
   "source": [
    "\n",
    "int width = 20;\n",
    "int height = 5;\n",
    "char symbol = '*';\n",
    "char symbolClear = ' ';\n",
    "bool isFill = true; // Python: is_fill\n",
    "\n",
    "// ()\n",
    "for (int r = 0; r < height; r++)\n",
    "{\n",
    "    if (isFill || r == 0 || r == height-1)\n",
    "        Console.WriteLine(new string(symbol, width));\n",
    "    else\n",
    "        Console.WriteLine(symbol + new string (symbolClear, width-2) + symbol);\n",
    "}"
   ]
  },
  {
   "cell_type": "code",
   "execution_count": null,
   "metadata": {
    "dotnet_interactive": {
     "language": "csharp"
    },
    "polyglot_notebook": {
     "kernelName": "csharp"
    },
    "vscode": {
     "languageId": "polyglot-notebook"
    }
   },
   "outputs": [
    {
     "name": "stdout",
     "output_type": "stream",
     "text": [
      "********************\n",
      "********************\n",
      "********************\n",
      "********************\n",
      "********************\n",
      "********************\n",
      "********************\n",
      "********************\n",
      "********************\n",
      "********************\n",
      "\n",
      "####################\n",
      "#                  #\n",
      "#                  #\n",
      "#                  #\n",
      "#                  #\n",
      "#                  #\n",
      "#                  #\n",
      "#                  #\n",
      "#                  #\n",
      "####################\n",
      "##########\n",
      "#        #\n",
      "#        #\n",
      "##########\n"
     ]
    }
   ],
   "source": [
    "\n",
    "/// <summary>\n",
    "/// Нарисовать прямоугольник в консоли\n",
    "/// </summary>\n",
    "/// <param name=\"width\">Ширина фигуры</param>\n",
    "/// <param name=\"height\">Высота фигуры</param>\n",
    "/// <param name=\"symbol\">Символ рисования фигуры</param>\n",
    "/// <param name=\"symbolClear\">Символ залития фигуры</param>\n",
    "/// <param name=\"isFill\">Признак залития фигуры фигуры</param>\n",
    "/// <return>ничего</return>\n",
    "void PrintRectangle(\n",
    "    int width,\n",
    "    int height,\n",
    "    char symbol = '*',\n",
    "    char symbolClear = ' ',\n",
    "    bool isFill = true\n",
    ")\n",
    "{\n",
    "    for (int r = 0; r < height; r++)\n",
    "    {\n",
    "        if (isFill || r == 0 || r == height-1)\n",
    "            Console.WriteLine(new string(symbol, width));\n",
    "        else\n",
    "            Console.WriteLine(symbol + new string (symbolClear, width-2) + symbol);\n",
    "    }\n",
    "}\n",
    "\n",
    "PrintRectangle(20, 10);\n",
    "Console.WriteLine();\n",
    "PrintRectangle(20, 10, symbol: '#', isFill: false);\n",
    "PrintRectangle(width:10, height: 4, symbol: '#', isFill: false);"
   ]
  }
 ],
 "metadata": {
  "kernelspec": {
   "display_name": ".NET (C#)",
   "language": "C#",
   "name": ".net-csharp"
  },
  "language_info": {
   "name": "python"
  },
  "polyglot_notebook": {
   "kernelInfo": {
    "defaultKernelName": "csharp",
    "items": [
     {
      "aliases": [],
      "name": "csharp"
     }
    ]
   }
  }
 },
 "nbformat": 4,
 "nbformat_minor": 2
}
