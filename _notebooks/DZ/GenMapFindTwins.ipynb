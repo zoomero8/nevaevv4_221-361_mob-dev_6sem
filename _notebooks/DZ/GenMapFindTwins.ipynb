{
 "cells": [
  {
   "cell_type": "markdown",
   "id": "20dfaa91",
   "metadata": {},
   "source": [
    "**“GenMapFindTwins.ipynb” - создать карту для игры “найди пару”**\n",
    "\n",
    "\n",
    "Создать функцию(или класс), которая вернет карту для игры “найди пару” в зависимости от входящих параметров.\n"
   ]
  },
  {
   "cell_type": "code",
   "execution_count": 1,
   "id": "39856068",
   "metadata": {
    "vscode": {
     "languageId": "polyglot-notebook"
    }
   },
   "outputs": [],
   "source": [
    "using System;\n",
    "using System.Collections.Generic;\n",
    "using System.Linq;\n",
    "\n",
    "char[,] GenerateFindTwinsMap(\n",
    "    int height = 4,\n",
    "    int width = 4,\n",
    "    string symbols = \"0123456789\",\n",
    "    int repeatCount = 2)\n",
    "{\n",
    "    int totalCells = height * width;\n",
    "\n",
    "    if (totalCells % repeatCount != 0)\n",
    "        throw new ArgumentException(\"Количество ячеек должно делиться на repeatCount.\");\n",
    "\n",
    "    int totalUniqueSymbolsNeeded = totalCells / repeatCount;\n",
    "\n",
    "    if (symbols.Length < totalUniqueSymbolsNeeded)\n",
    "        throw new ArgumentException(\"Недостаточно символов для генерации уникальных пар.\");\n",
    "\n",
    "    // 1. Подготовка пула символов\n",
    "    List<char> pool = new List<char>();\n",
    "    for (int i = 0; i < totalUniqueSymbolsNeeded; i++)\n",
    "    {\n",
    "        for (int j = 0; j < repeatCount; j++)\n",
    "        {\n",
    "            pool.Add(symbols[i]);\n",
    "        }\n",
    "    }\n",
    "\n",
    "    // 2. Перемешиваем\n",
    "    Random rnd = new Random();\n",
    "    pool = pool.OrderBy(_ => rnd.Next()).ToList();\n",
    "\n",
    "    // 3. Заполняем карту\n",
    "    char[,] map = new char[height, width];\n",
    "    int index = 0;\n",
    "    for (int i = 0; i < height; i++)\n",
    "    {\n",
    "        for (int j = 0; j < width; j++)\n",
    "        {\n",
    "            map[i, j] = pool[index++];\n",
    "        }\n",
    "    }\n",
    "\n",
    "    return map;\n",
    "}\n",
    "\n",
    "void PrintMap(char[,] map)\n",
    "{\n",
    "    for (int i = 0; i < map.GetLength(0); i++)\n",
    "    {\n",
    "        for (int j = 0; j < map.GetLength(1); j++)\n",
    "        {\n",
    "            Console.Write(map[i, j] + \" \");\n",
    "        }\n",
    "        Console.WriteLine();\n",
    "    }\n",
    "}\n"
   ]
  },
  {
   "cell_type": "code",
   "execution_count": 6,
   "id": "c55e6989",
   "metadata": {
    "vscode": {
     "languageId": "polyglot-notebook"
    }
   },
   "outputs": [
    {
     "name": "stdout",
     "output_type": "stream",
     "text": [
      "Пример 1: 4x4 поле, пары по 2\n",
      "1 6 2 5 \n",
      "4 0 4 1 \n",
      "6 5 0 7 \n",
      "2 3 3 7 \n",
      "\n",
      "Пример 2: 3x4 поле, тройки символов\n",
      "C A D A \n",
      "D D A B \n",
      "C B B C \n",
      "\n",
      "Пример 3: 4x4 поле, четверки\n",
      "Y Y X Z \n",
      "Z W X Y \n",
      "Z X Y W \n",
      "X Z W W \n",
      "\n",
      "Поле 9x9, тройки (по 3 символа):\n",
      "R D W U R I F Q J \n",
      "E B 1 Z N T J K G \n",
      "1 Q F M Q X X V F \n",
      "H M U N K O P 1 L \n",
      "V C M N B E D I I \n",
      "X T L O D G W A Z \n",
      "S G Y P Y C H E R \n",
      "A T S C H L S P Y \n",
      "J A Z U B W K V O \n"
     ]
    }
   ],
   "source": [
    "Console.WriteLine(\"Пример 1: 4x4 поле, пары по 2\");\n",
    "var map1 = GenerateFindTwinsMap(4, 4);\n",
    "PrintMap(map1);\n",
    "\n",
    "Console.WriteLine(\"\\nПример 2: 3x4 поле, тройки символов\");\n",
    "var map2 = GenerateFindTwinsMap(3, 4, \"ABCDEFGH\", 3);\n",
    "PrintMap(map2);\n",
    "\n",
    "Console.WriteLine(\"\\nПример 3: 4x4 поле, четверки\");\n",
    "var map3 = GenerateFindTwinsMap(4, 4, \"WXYZ\", 4);\n",
    "PrintMap(map3);\n",
    "\n",
    "Console.WriteLine(\"\\nПоле 9x9, тройки (по 3 символа):\");\n",
    "var map9x9 = GenerateFindTwinsMap(9, 9, \"ABCDEFGHIJKLMNOPQRSTUVWXYZ123456789\", 3);\n",
    "PrintMap(map9x9);\n",
    "\n"
   ]
  }
 ],
 "metadata": {
  "kernelspec": {
   "display_name": ".NET (C#)",
   "language": "C#",
   "name": ".net-csharp"
  },
  "language_info": {
   "name": "python"
  },
  "polyglot_notebook": {
   "kernelInfo": {
    "defaultKernelName": "csharp",
    "items": [
     {
      "aliases": [],
      "name": "csharp"
     }
    ]
   }
  }
 },
 "nbformat": 4,
 "nbformat_minor": 5
}
