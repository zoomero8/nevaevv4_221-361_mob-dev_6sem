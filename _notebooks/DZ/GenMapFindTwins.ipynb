{
 "cells": [
  {
   "cell_type": "markdown",
   "id": "20dfaa91",
   "metadata": {},
   "source": [
    "**“GenMapFindTwins.ipynb” - создать карту для игры “найди пару”**\n",
    "\n",
    "\n",
    "Создать функцию(или класс), которая вернет карту для игры “найди пару” в зависимости от входящих параметров.\n"
   ]
  },
  {
   "cell_type": "code",
   "execution_count": null,
   "id": "39856068",
   "metadata": {
    "polyglot_notebook": {
     "kernelName": "csharp"
    },
    "vscode": {
     "languageId": "polyglot-notebook"
    }
   },
   "outputs": [],
   "source": [
    "using System;\n",
    "using System.Collections.Generic; // Для использования List<T>\n",
    "using System.Linq; // Для использования методов LINQ, таких как OrderBy\n",
    "\n",
    "// Генерирует карту для игры \"Найди пару\".\n",
    "char[,] GenerateFindTwinsMap(\n",
    "    int height = 4,                 // Высота игрового поля по умолчанию\n",
    "    int width = 4,                  // Ширина игрового поля по умолчанию\n",
    "    string symbols = \"0123456789\",  // Строка с доступными символами для пар\n",
    "    int repeatCount = 2)            // Количество повторений каждого символа (2 для пар, 3 для троек и т.д.)\n",
    "{\n",
    "    int totalCells = height * width; // Общее количество ячеек на карте\n",
    "\n",
    "    // Проверка: общее количество ячеек должно быть кратно количеству повторений,\n",
    "    // чтобы все символы могли быть размещены полностью.\n",
    "    if (totalCells % repeatCount != 0)\n",
    "        throw new ArgumentException(\"Количество ячеек должно быть кратно 'repeatCount', чтобы сформировать полные наборы символов.\");\n",
    "\n",
    "    // Сколько уникальных символов потребуется для заполнения карты.\n",
    "    int totalUniqueSymbolsNeeded = totalCells / repeatCount;\n",
    "\n",
    "    // Проверка: достаточно ли предоставлено уникальных символов.\n",
    "    if (symbols.Length < totalUniqueSymbolsNeeded)\n",
    "        throw new ArgumentException(\"Недостаточно уникальных символов в строке 'symbols' для генерации карты.\");\n",
    "\n",
    "    // 1. Подготовка списка символов для размещения на карте (пул символов)\n",
    "    List<char> pool = new List<char>();\n",
    "    for (int i = 0; i < totalUniqueSymbolsNeeded; i++) // Берем нужное количество уникальных символов из 'symbols'\n",
    "    {\n",
    "        for (int j = 0; j < repeatCount; j++) // Каждый уникальный символ добавляем 'repeatCount' раз\n",
    "        {\n",
    "            pool.Add(symbols[i]);\n",
    "        }\n",
    "    }\n",
    "\n",
    "    // 2. Перемешиваем созданный пул символов в случайном порядке\n",
    "    Random rnd = new Random();\n",
    "    pool = pool.OrderBy(_ => rnd.Next()).ToList(); // Простой способ перемешать список с помощью LINQ\n",
    "\n",
    "    // 3. Заполняем карту (двумерный массив) перемешанными символами\n",
    "    char[,] map = new char[height, width]; // Создаем карту заданных размеров\n",
    "    int index = 0; // Индекс для поочередного взятия символов из перемешанного пула\n",
    "    for (int i = 0; i < height; i++) // Проход по строкам карты\n",
    "    {\n",
    "        for (int j = 0; j < width; j++) // Проход по столбцам карты\n",
    "        {\n",
    "            map[i, j] = pool[index++]; // Размещаем очередной символ из пула в ячейку карты\n",
    "        }\n",
    "    }\n",
    "\n",
    "    return map; // Возвращаем сгенерированную и заполненную карту\n",
    "}\n",
    "\n",
    "// Выводит сгенерированную карту в консоль.\n",
    "void PrintMap(char[,] map)\n",
    "{\n",
    "    for (int i = 0; i < map.GetLength(0); i++) // Проход по строкам карты (первое измерение массива)\n",
    "    {\n",
    "        for (int j = 0; j < map.GetLength(1); j++) // Проход по столбцам карты (второе измерение массива)\n",
    "        {\n",
    "            Console.Write(map[i, j] + \" \"); // Выводим символ и пробел для разделения\n",
    "        }\n",
    "        Console.WriteLine(); // Переход на новую строку после вывода всех символов строки\n",
    "    }\n",
    "}"
   ]
  },
  {
   "cell_type": "code",
   "execution_count": 6,
   "id": "c55e6989",
   "metadata": {
    "polyglot_notebook": {
     "kernelName": "csharp"
    },
    "vscode": {
     "languageId": "polyglot-notebook"
    }
   },
   "outputs": [
    {
     "name": "stdout",
     "output_type": "stream",
     "text": [
      "Пример 1: 4x4 поле, пары по 2\n",
      "1 6 2 5 \n",
      "4 0 4 1 \n",
      "6 5 0 7 \n",
      "2 3 3 7 \n",
      "\n",
      "Пример 2: 3x4 поле, тройки символов\n",
      "C A D A \n",
      "D D A B \n",
      "C B B C \n",
      "\n",
      "Пример 3: 4x4 поле, четверки\n",
      "Y Y X Z \n",
      "Z W X Y \n",
      "Z X Y W \n",
      "X Z W W \n",
      "\n",
      "Поле 9x9, тройки (по 3 символа):\n",
      "R D W U R I F Q J \n",
      "E B 1 Z N T J K G \n",
      "1 Q F M Q X X V F \n",
      "H M U N K O P 1 L \n",
      "V C M N B E D I I \n",
      "X T L O D G W A Z \n",
      "S G Y P Y C H E R \n",
      "A T S C H L S P Y \n",
      "J A Z U B W K V O \n"
     ]
    }
   ],
   "source": [
    "Console.WriteLine(\"Пример 1: 4x4 поле, пары по 2\");\n",
    "var map1 = GenerateFindTwinsMap(4, 4);\n",
    "PrintMap(map1);\n",
    "\n",
    "Console.WriteLine(\"\\nПример 2: 3x4 поле, тройки символов\");\n",
    "var map2 = GenerateFindTwinsMap(3, 4, \"ABCDEFGH\", 3);\n",
    "PrintMap(map2);\n",
    "\n",
    "Console.WriteLine(\"\\nПример 3: 4x4 поле, четверки\");\n",
    "var map3 = GenerateFindTwinsMap(4, 4, \"WXYZ\", 4);\n",
    "PrintMap(map3);\n",
    "\n",
    "Console.WriteLine(\"\\nПоле 9x9, тройки (по 3 символа):\");\n",
    "var map9x9 = GenerateFindTwinsMap(9, 9, \"ABCDEFGHIJKLMNOPQRSTUVWXYZ123456789\", 3);\n",
    "PrintMap(map9x9);\n",
    "\n"
   ]
  }
 ],
 "metadata": {
  "kernelspec": {
   "display_name": ".NET (C#)",
   "language": "C#",
   "name": ".net-csharp"
  },
  "language_info": {
   "name": "python"
  },
  "polyglot_notebook": {
   "kernelInfo": {
    "defaultKernelName": "csharp",
    "items": [
     {
      "aliases": [],
      "name": "csharp"
     }
    ]
   }
  }
 },
 "nbformat": 4,
 "nbformat_minor": 5
}
