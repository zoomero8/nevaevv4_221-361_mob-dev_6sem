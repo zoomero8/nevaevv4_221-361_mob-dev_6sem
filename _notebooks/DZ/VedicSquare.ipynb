{
 "cells": [
  {
   "cell_type": "markdown",
   "id": "3d3e73d1",
   "metadata": {},
   "source": [
    "## 1) Построить ведический квадрат\n",
    "### Консольное приложение или файл полиглот ноутбука.\n",
    "\n",
    "Создать класс(ы) с методами: \n",
    "- вернуть таблицу пифагора в виде двумерного массива целых чисел;\n",
    "- вернуть ведический квадрат в виде двумерного массива целых чисел;\n",
    "- вернуть узор по числу в виде двумерного массива;\n",
    "- красивый вывод всех этих данных в консоль.\n"
   ]
  },
  {
   "cell_type": "code",
   "execution_count": null,
   "id": "8c3b8d8a",
   "metadata": {
    "polyglot_notebook": {
     "kernelName": "csharp"
    },
    "vscode": {
     "languageId": "polyglot-notebook"
    }
   },
   "outputs": [
    {
     "name": "stdout",
     "output_type": "stream",
     "text": [
      "Ведический квадрат:\n",
      "123456789\n",
      "246813579\n",
      "369369369\n",
      "483726159\n",
      "516273849\n",
      "639639639\n",
      "753186429\n",
      "876543219\n",
      "999999999\n",
      "\n",
      "Узор по числу 9:\n",
      "000000001\n",
      "000000001\n",
      "001001001\n",
      "000000001\n",
      "000000001\n",
      "001001001\n",
      "000000001\n",
      "000000001\n",
      "111111111\n"
     ]
    }
   ],
   "source": [
    "using System;\n",
    "using System.Linq;\n",
    "\n",
    "const int size = 9;\n",
    "\n",
    "// 1. Таблица Пифагора\n",
    "int[,] GetPythagoreanTable()\n",
    "{\n",
    "    int[,] table = new int[size, size];\n",
    "    for (int i = 1; i <= size; i++)\n",
    "        for (int j = 1; j <= size; j++)\n",
    "            table[i - 1, j - 1] = i * j;\n",
    "    return table;\n",
    "}\n",
    "\n",
    "// 2. Ведический квадрат\n",
    "int[,] GetVedicSquare(int[,] table)\n",
    "{\n",
    "    int[,] result = new int[size, size];\n",
    "    for (int i = 0; i < size; i++)\n",
    "        for (int j = 0; j < size; j++)\n",
    "            result[i, j] = ReduceToSingleDigit(table[i, j]);\n",
    "    return result;\n",
    "}\n",
    "\n",
    "// 3. Приведение к однозначному числу\n",
    "int ReduceToSingleDigit(int num)\n",
    "{\n",
    "    while (num > 9)\n",
    "        num = num.ToString().ToCharArray().Sum(c => c - '0');\n",
    "    return num;\n",
    "}\n",
    "\n",
    "// 4. Получить узор по числу\n",
    "int[,] GetPatternByNumber(int[,] vedic, int number)\n",
    "{\n",
    "    int[,] pattern = new int[size, size];\n",
    "    for (int i = 0; i < size; i++)\n",
    "        for (int j = 0; j < size; j++)\n",
    "            pattern[i, j] = vedic[i, j] == number ? 1 : 0;\n",
    "    return pattern;\n",
    "}\n",
    "\n",
    "// 5. Поворот матрицы на 90° по часовой\n",
    "int[,] RotateMatrix90(int[,] matrix)\n",
    "{\n",
    "    int n = matrix.GetLength(0);\n",
    "    int[,] rotated = new int[n, n];\n",
    "    for (int i = 0; i < n; i++)\n",
    "        for (int j = 0; j < n; j++)\n",
    "            rotated[j, n - 1 - i] = matrix[i, j];\n",
    "    return rotated;\n",
    "}\n",
    "\n",
    "// 6. Отражение по горизонтали\n",
    "int[,] FlipHorizontal(int[,] matrix)\n",
    "{\n",
    "    int n = matrix.GetLength(0);\n",
    "    int[,] flipped = new int[n, n];\n",
    "    for (int i = 0; i < n; i++)\n",
    "        for (int j = 0; j < n; j++)\n",
    "            flipped[i, j] = matrix[i, n - 1 - j];\n",
    "    return flipped;\n",
    "}\n",
    "\n",
    "// 7. Печать матрицы\n",
    "void PrintMatrix(int[,] matrix)\n",
    "{\n",
    "    for (int i = 0; i < matrix.GetLength(0); i++)\n",
    "    {\n",
    "        for (int j = 0; j < matrix.GetLength(1); j++)\n",
    "            Console.Write(matrix[i, j]);\n",
    "        Console.WriteLine();\n",
    "    }\n",
    "}\n",
    "\n",
    "//  Запуск кода \n",
    "\n",
    "int[,] pythagorean = GetPythagoreanTable();\n",
    "int[,] vedic = GetVedicSquare(pythagorean);\n",
    "\n",
    "Console.WriteLine(\"Ведический квадрат:\");\n",
    "PrintMatrix(vedic);\n",
    "\n",
    "int num = 9;\n",
    "Console.WriteLine($\"\\nУзор по числу {num}:\");\n",
    "\n",
    "int[,] pattern = GetPatternByNumber(vedic, num);\n",
    "int[,] rotated = RotateMatrix90(pattern);\n",
    "int[,] final = FlipHorizontal(rotated);\n",
    "PrintMatrix(final);\n"
   ]
  }
 ],
 "metadata": {
  "kernelspec": {
   "display_name": ".NET (C#)",
   "language": "C#",
   "name": ".net-csharp"
  },
  "language_info": {
   "name": "python"
  },
  "polyglot_notebook": {
   "kernelInfo": {
    "defaultKernelName": "csharp",
    "items": [
     {
      "aliases": [],
      "name": "csharp"
     }
    ]
   }
  }
 },
 "nbformat": 4,
 "nbformat_minor": 5
}
