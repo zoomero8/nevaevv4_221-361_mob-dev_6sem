{
 "cells": [
  {
   "cell_type": "markdown",
   "id": "3d3e73d1",
   "metadata": {},
   "source": [
    "## 1) Построить ведический квадрат\n",
    "### Консольное приложение или файл полиглот ноутбука.\n",
    "\n",
    "Создать класс(ы) с методами: \n",
    "- вернуть таблицу пифагора в виде двумерного массива целых чисел;\n",
    "- вернуть ведический квадрат в виде двумерного массива целых чисел;\n",
    "- вернуть узор по числу в виде двумерного массива;\n",
    "- красивый вывод всех этих данных в консоль.\n"
   ]
  },
  {
   "cell_type": "code",
   "execution_count": 7,
   "id": "8c3b8d8a",
   "metadata": {
    "polyglot_notebook": {
     "kernelName": "csharp"
    },
    "vscode": {
     "languageId": "polyglot-notebook"
    }
   },
   "outputs": [
    {
     "name": "stdout",
     "output_type": "stream",
     "text": [
      "Ведический квадрат:\n",
      "  1  2  3  4  5  6  7  8  9\n",
      "  2  4  6  8  1  3  5  7  9\n",
      "  3  6  9  3  6  9  3  6  9\n",
      "  4  8  3  7  2  6  1  5  9\n",
      "  5  1  6  2  7  3  8  4  9\n",
      "  6  3  9  6  3  9  6  3  9\n",
      "  7  5  3  1  8  6  4  2  9\n",
      "  8  7  6  5  4  3  2  1  9\n",
      "  9  9  9  9  9  9  9  9  9\n",
      "\n",
      "Квадрат Пифагора:\n",
      "  1  2  3  4  5  6  7  8  9\n",
      "  2  4  6  8 10 12 14 16 18\n",
      "  3  6  9 12 15 18 21 24 27\n",
      "  4  8 12 16 20 24 28 32 36\n",
      "  5 10 15 20 25 30 35 40 45\n",
      "  6 12 18 24 30 36 42 48 54\n",
      "  7 14 21 28 35 42 49 56 63\n",
      "  8 16 24 32 40 48 56 64 72\n",
      "  9 18 27 36 45 54 63 72 81\n",
      "\n",
      "Узор по числу 9:\n",
      "  0  0  0  0  0  0  0  0  1\n",
      "  0  0  0  0  0  0  0  0  1\n",
      "  0  0  1  0  0  1  0  0  1\n",
      "  0  0  0  0  0  0  0  0  1\n",
      "  0  0  0  0  0  0  0  0  1\n",
      "  0  0  1  0  0  1  0  0  1\n",
      "  0  0  0  0  0  0  0  0  1\n",
      "  0  0  0  0  0  0  0  0  1\n",
      "  1  1  1  1  1  1  1  1  1\n"
     ]
    }
   ],
   "source": [
    "using System; // Используется для базовых функций, включая Console\n",
    "using System.Linq; // Используется для метода Sum() в ReduceToSingleDigit\n",
    "\n",
    "// Глобальная константа для размера матриц (9x9)\n",
    "const int size = 9;\n",
    "\n",
    "// Создает и возвращает таблицу Пифагора (таблицу умножения).\n",
    "int[,] GetPythagoreanTable()\n",
    "{\n",
    "    int[,] table = new int[size, size];\n",
    "    // Заполнение таблицы произведениями i * j\n",
    "    for (int i = 1; i <= size; i++)\n",
    "        for (int j = 1; j <= size; j++)\n",
    "            table[i - 1, j - 1] = i * j;\n",
    "    return table;\n",
    "}\n",
    "\n",
    "// Преобразует таблицу Пифагора в Ведический квадрат.\n",
    "// Каждое число таблицы приводится к однозначному путем суммирования его цифр.\n",
    "int[,] GetVedicSquare(int[,] pythagoreanTable) // Параметр переименован для ясности\n",
    "{\n",
    "    int[,] result = new int[size, size];\n",
    "    // Приведение каждого элемента таблицы к однозначному числу\n",
    "    for (int i = 0; i < size; i++)\n",
    "        for (int j = 0; j < size; j++)\n",
    "            result[i, j] = ReduceToSingleDigit(pythagoreanTable[i, j]);\n",
    "    return result;\n",
    "}\n",
    "\n",
    "// Рекурсивно суммирует цифры числа, пока оно не станет однозначным.\n",
    "// Например, 19 -> 1+9=10 -> 1+0=1. Результат: 1.\n",
    "int ReduceToSingleDigit(int num)\n",
    "{\n",
    "    while (num > 9) // Повторять, пока число больше 9\n",
    "        // Суммирование цифр числа\n",
    "        num = num.ToString().ToCharArray().Sum(c => c - '0');\n",
    "    return num;\n",
    "}\n",
    "\n",
    "// Создает бинарный узор (0 или 1) из Ведического квадрата.\n",
    "// Единицы ставятся там, где числа в Ведическом квадрате равны заданному `number`.\n",
    "int[,] GetPatternByNumber(int[,] vedicSquare, int number) // Параметр переименован для ясности\n",
    "{\n",
    "    int[,] pattern = new int[size, size];\n",
    "    // Формирование узора: 1 если элемент равен 'number', иначе 0\n",
    "    for (int i = 0; i < size; i++)\n",
    "        for (int j = 0; j < size; j++)\n",
    "            pattern[i, j] = vedicSquare[i, j] == number ? 1 : 0;\n",
    "    return pattern;\n",
    "}\n",
    "\n",
    "// Выводит двумерный массив (матрицу) в консоль с форматированием.\n",
    "void PrintMatrix(int[,] matrix)\n",
    "{\n",
    "    // Ширина ячейки для вывода, чтобы числа были выровнены\n",
    "    int cellWidth = 3;\n",
    "\n",
    "    for (int i = 0; i < matrix.GetLength(0); i++) // Итерация по строкам\n",
    "    {\n",
    "        for (int j = 0; j < matrix.GetLength(1); j++) // Итерация по столбцам\n",
    "        {\n",
    "            // Вывод элемента с выравниванием по левому краю (добавление пробелов слева)\n",
    "            Console.Write(matrix[i, j].ToString().PadLeft(cellWidth));\n",
    "        }\n",
    "        Console.WriteLine(); // Переход на новую строку после вывода всех элементов строки\n",
    "    }\n",
    "}\n",
    "\n",
    "int[,] pifagor = GetPythagoreanTable();\n",
    "int[,] vedic = GetVedicSquare(pifagor);\n",
    "\n",
    "Console.WriteLine(\"Ведический квадрат:\");\n",
    "PrintMatrix(vedic);\n",
    "\n",
    "Console.WriteLine(\"\\nКвадрат Пифагора:\");\n",
    "PrintMatrix(pifagor);\n",
    "int num = 9;\n",
    "Console.WriteLine($\"\\nУзор по числу {num}:\");\n",
    "\n",
    "int[,] pattern = GetPatternByNumber(vedic, num);\n",
    "PrintMatrix(pattern);"
   ]
  }
 ],
 "metadata": {
  "kernelspec": {
   "display_name": ".NET (C#)",
   "language": "C#",
   "name": ".net-csharp"
  },
  "language_info": {
   "name": "python"
  },
  "polyglot_notebook": {
   "kernelInfo": {
    "defaultKernelName": "csharp",
    "items": [
     {
      "aliases": [],
      "name": "csharp"
     }
    ]
   }
  }
 },
 "nbformat": 4,
 "nbformat_minor": 5
}
