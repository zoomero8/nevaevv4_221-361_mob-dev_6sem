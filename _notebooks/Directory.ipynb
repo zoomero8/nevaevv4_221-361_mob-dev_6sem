{
 "cells": [
  {
   "cell_type": "markdown",
   "id": "93c8f715",
   "metadata": {},
   "source": [
    "# Работа с каталогами"
   ]
  },
  {
   "cell_type": "code",
   "execution_count": 1,
   "id": "2de9f029",
   "metadata": {
    "polyglot_notebook": {
     "kernelName": "csharp"
    },
    "vscode": {
     "languageId": "polyglot-notebook"
    }
   },
   "outputs": [],
   "source": [
    "using System.IO;"
   ]
  },
  {
   "cell_type": "code",
   "execution_count": 2,
   "id": "7e880239",
   "metadata": {
    "polyglot_notebook": {
     "kernelName": "csharp"
    },
    "vscode": {
     "languageId": "polyglot-notebook"
    }
   },
   "outputs": [],
   "source": [
    "string path = @\"C:\\Windows\\Help\";"
   ]
  },
  {
   "cell_type": "code",
   "execution_count": 3,
   "id": "af8f5f80",
   "metadata": {
    "polyglot_notebook": {
     "kernelName": "csharp"
    },
    "vscode": {
     "languageId": "polyglot-notebook"
    }
   },
   "outputs": [
    {
     "data": {
      "text/html": [
       "<div class=\"dni-plaintext\"><pre>[ C:\\Windows\\Help\\Новый текстовый документ.txt ]</pre></div><style>\r\n",
       ".dni-code-hint {\r\n",
       "    font-style: italic;\r\n",
       "    overflow: hidden;\r\n",
       "    white-space: nowrap;\r\n",
       "}\r\n",
       ".dni-treeview {\r\n",
       "    white-space: nowrap;\r\n",
       "}\r\n",
       ".dni-treeview td {\r\n",
       "    vertical-align: top;\r\n",
       "    text-align: start;\r\n",
       "}\r\n",
       "details.dni-treeview {\r\n",
       "    padding-left: 1em;\r\n",
       "}\r\n",
       "table td {\r\n",
       "    text-align: start;\r\n",
       "}\r\n",
       "table tr { \r\n",
       "    vertical-align: top; \r\n",
       "    margin: 0em 0px;\r\n",
       "}\r\n",
       "table tr td pre \r\n",
       "{ \r\n",
       "    vertical-align: top !important; \r\n",
       "    margin: 0em 0px !important;\r\n",
       "} \r\n",
       "table th {\r\n",
       "    text-align: start;\r\n",
       "}\r\n",
       "</style>"
      ]
     },
     "metadata": {},
     "output_type": "display_data"
    }
   ],
   "source": [
    "Directory.GetFiles(path)"
   ]
  },
  {
   "cell_type": "code",
   "execution_count": 7,
   "id": "51f1fe74",
   "metadata": {
    "polyglot_notebook": {
     "kernelName": "csharp"
    },
    "vscode": {
     "languageId": "polyglot-notebook"
    }
   },
   "outputs": [
    {
     "data": {
      "text/html": [
       "<div class=\"dni-plaintext\"><pre>[ C:\\Windows\\Help\\Новый текстовый документ.txt, C:\\Windows\\Help\\en-US\\credits.rtf, C:\\Windows\\Help\\mui\\0419\\cliconf.chm, C:\\Windows\\Help\\mui\\0419\\mmc.CHM, C:\\Windows\\Help\\mui\\0419\\msdasc.chm, C:\\Windows\\Help\\mui\\0419\\msorcl32.chm, C:\\Windows\\Help\\mui\\0419\\odbcinst.chm, C:\\Windows\\Help\\mui\\0419\\odbcjet.chm, C:\\Windows\\Help\\mui\\0419\\sqlsodbc.chm, C:\\Windows\\Help\\mui\\0419\\sqlsoldb.chm ]</pre></div><style>\r\n",
       ".dni-code-hint {\r\n",
       "    font-style: italic;\r\n",
       "    overflow: hidden;\r\n",
       "    white-space: nowrap;\r\n",
       "}\r\n",
       ".dni-treeview {\r\n",
       "    white-space: nowrap;\r\n",
       "}\r\n",
       ".dni-treeview td {\r\n",
       "    vertical-align: top;\r\n",
       "    text-align: start;\r\n",
       "}\r\n",
       "details.dni-treeview {\r\n",
       "    padding-left: 1em;\r\n",
       "}\r\n",
       "table td {\r\n",
       "    text-align: start;\r\n",
       "}\r\n",
       "table tr { \r\n",
       "    vertical-align: top; \r\n",
       "    margin: 0em 0px;\r\n",
       "}\r\n",
       "table tr td pre \r\n",
       "{ \r\n",
       "    vertical-align: top !important; \r\n",
       "    margin: 0em 0px !important;\r\n",
       "} \r\n",
       "table th {\r\n",
       "    text-align: start;\r\n",
       "}\r\n",
       "</style>"
      ]
     },
     "metadata": {},
     "output_type": "display_data"
    }
   ],
   "source": [
    "Directory.GetFiles(path, \"\", searchOption: SearchOption.AllDirectories)"
   ]
  },
  {
   "cell_type": "code",
   "execution_count": 8,
   "id": "bbe192a1",
   "metadata": {
    "polyglot_notebook": {
     "kernelName": "csharp"
    },
    "vscode": {
     "languageId": "polyglot-notebook"
    }
   },
   "outputs": [
    {
     "name": "stdout",
     "output_type": "stream",
     "text": [
      "C:\\Windows\\Help\\Corporate\n",
      "C:\\Windows\\Help\\en-US\n",
      "C:\\Windows\\Help\\Help\n",
      "C:\\Windows\\Help\\mui\n",
      "C:\\Windows\\Help\\OEM\n",
      "C:\\Windows\\Help\\Windows\n"
     ]
    }
   ],
   "source": [
    "var r = Directory.GetDirectories(path);\n",
    "foreach (var i in r)\n",
    "    Console.WriteLine(i);"
   ]
  }
 ],
 "metadata": {
  "kernelspec": {
   "display_name": ".NET (C#)",
   "language": "C#",
   "name": ".net-csharp"
  },
  "language_info": {
   "name": "python"
  },
  "polyglot_notebook": {
   "kernelInfo": {
    "defaultKernelName": "csharp",
    "items": [
     {
      "aliases": [],
      "name": "csharp"
     }
    ]
   }
  }
 },
 "nbformat": 4,
 "nbformat_minor": 5
}
